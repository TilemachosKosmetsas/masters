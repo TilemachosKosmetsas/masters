{
 "cells": [
  {
   "cell_type": "markdown",
   "metadata": {},
   "source": [
    "### QUESTION 1 ###\n",
    "Calculate the most recent divident per share for Mclean."
   ]
  },
  {
   "cell_type": "markdown",
   "metadata": {},
   "source": [
    "I will first calculate $B_0$ which is the book value of one share.\n",
    "&nbsp;&nbsp;&nbsp;&nbsp;&nbsp;&nbsp;<br></br>\n",
    "$$B_0 = \\frac{equity}{\\text{number of shares}} = \\frac{10500000}{100000} = 105 \\text{ usd per share}$$\n",
    "<br></br>\n",
    "&nbsp;&nbsp;&nbsp;&nbsp;&nbsp;&nbsp;\n",
    "Since the company's stock enjoys a huge 18% ROE percentage, the Net income per share is $18\\%\\cdot105=$ 18.9\n",
    "<br></br>\n",
    "<br></br>\n",
    "&nbsp;&nbsp;&nbsp;&nbsp;&nbsp;&nbsp;\n",
    "Lastly the company pays 30% of that to investors, thus the dividends per share is $30\\%\\cdot18.9=5.67\\text{ usd per share}$\n",
    "<br></br>\n",
    "<br></br>\n",
    "$$\\text{Thus } D_0 = 5.67$$"
   ]
  },
  {
   "cell_type": "markdown",
   "metadata": {},
   "source": [
    "### QUESTION 2 ###\n",
    "Calculate the intrinsic value of Mclean using the Gordon Growth Model with dividends as the cash flow input."
   ]
  },
  {
   "cell_type": "markdown",
   "metadata": {},
   "source": [
    "&nbsp;&nbsp;&nbsp;&nbsp;&nbsp;&nbsp;\n",
    "I will now calculate the intrinsic value of the stock $V_0$ by using GGM. $$$$</br>\n",
    "We know that:\n",
    "$$V_0=\\frac{D_0\\cdot(1+g)}{R-g}$$ </br> \n",
    "\n",
    "&nbsp;&nbsp;&nbsp;&nbsp;&nbsp;&nbsp;\n",
    "$$$$</br>\n",
    "Where g is the periodic growth rate of dividends, r is the risk free rate,<br></br> and R  is the equity discount rate  given by: $E(R)= r + \\beta\\cdot(R_{M}-r)$.\n",
    "\n",
    "&nbsp;&nbsp;&nbsp;&nbsp;&nbsp;&nbsp;\n",
    "We know that the company pays 30% dividends, thus the earnings retention ratio $b$ = 70%. \n",
    "ROE is given to be 18% .\n",
    "&nbsp;&nbsp;&nbsp;&nbsp;&nbsp;&nbsp;$$$$\n",
    "We can then derive g to be: $g = 0.7\\cdot0.18$"
   ]
  },
  {
   "cell_type": "code",
   "execution_count": 1,
   "metadata": {},
   "outputs": [],
   "source": [
    "b=0.7\n",
    "ROE=0.18\n",
    "g=b*ROE\n",
    "print ('the periodic growth rate is: ' +str(g))"
   ]
  },
  {
   "cell_type": "markdown",
   "metadata": {},
   "source": [
    "&nbsp;&nbsp;&nbsp;&nbsp;&nbsp;&nbsp; The risk free rate r is equal to the sum of \"The real yield on 10-year treasury bonds\" plus the \"Federal Reserve inflation rate target\" $$$$</br> Thus  $r$= 3.2% +2.8% = 6%.\n",
    "&nbsp;&nbsp;&nbsp;&nbsp;&nbsp;&nbsp;$$$$</br>\n",
    "Thus the expected return R is: 0.06 + 1.21 (0.153-0.06).\n",
    "<br></br>\n",
    "&nbsp;&nbsp;&nbsp;&nbsp;&nbsp;&nbsp;Where 1.12 is the Beta of Mclean with respect to market risk premium and 0.153 is $R_{M}$ the return of the market (approached by S&P500)."
   ]
  },
  {
   "cell_type": "code",
   "execution_count": 2,
   "metadata": {},
   "outputs": [
    {
     "name": "stdout",
     "output_type": "stream",
     "text": [
      "The intrinsic value of the stock is: 137.21083172147004\n"
     ]
    }
   ],
   "source": [
    "D_0=5.67\n",
    "r=0.06\n",
    "beta=1.21\n",
    "SP500R=0.153\n",
    "R=r+beta*(SP500R-r)\n",
    "V_0=(D_0*(1+g))/(R-g)\n",
    "print ('The intrinsic value of the stock is: '+ str(V_0))\n"
   ]
  },
  {
   "cell_type": "markdown",
   "metadata": {},
   "source": [
    "### QUESTION 3 ###\n",
    "Based on his criteria for investment, will Rissik decide to purchase Mclean shares?\n",
    "$$$$</br>\n",
    "Rissik's criterion is whether or not the intrinsic value he calculated, is 20% higher or more compared with he current share price which is 107.02. Let's name that price Rissik's threshold.\n"
   ]
  },
  {
   "cell_type": "code",
   "execution_count": 3,
   "metadata": {},
   "outputs": [
    {
     "name": "stdout",
     "output_type": "stream",
     "text": [
      "128.42399999999998\n"
     ]
    }
   ],
   "source": [
    "#The threshhold price by which Mr Rissik decides whether or not to buy is:\n",
    "Rissikthreshhold= 107.02*1.2\n",
    "print (Rissikthreshhold)"
   ]
  },
  {
   "cell_type": "code",
   "execution_count": 4,
   "metadata": {},
   "outputs": [
    {
     "name": "stdout",
     "output_type": "stream",
     "text": [
      "Rissik purchases the Mclean Stock\n"
     ]
    }
   ],
   "source": [
    "#What happened in the end?\n",
    "if (V_0 >= Rissikthreshhold ):\n",
    "    print('Rissik purchases the Mclean Stock')\n",
    "else:\n",
    "    print('No stock for Mr Rissik')"
   ]
  },
  {
   "cell_type": "markdown",
   "metadata": {},
   "source": [
    "### QUESTION 4 ###\n",
    "Based on his assumption about the share price of Mclean in one year's time, what is Rissik's expected total return for his Mclean investment?\n",
    "\n",
    "&nbsp;&nbsp;&nbsp;&nbsp;&nbsp;&nbsp; He buys the stock at current price 107.02 usd. He assumes that he will be able to sell the stock at 118usd plus that he will receive 6.38usd as a dividend per stock.\n",
    "<br></br>\n",
    "&nbsp;&nbsp;&nbsp;&nbsp;&nbsp;&nbsp;Thus he expects to reveice: $118 + 6.38 = 124.38$ usd\n",
    "\n",
    "<br></br>\n",
    "&nbsp;&nbsp;&nbsp;&nbsp;&nbsp;&nbsp;\n",
    "I have decided to discount this value by one time period ( t=1 with r = 6%) before calculating the return, in order to bring the two values 124.38 and 107.02 on the same time frame(present day value). Thus:\n",
    "$$\\text{Earn_disc}=\\frac{124.38}{1.06}=117.339 \\text{ usd}$$\n",
    "&nbsp;&nbsp;&nbsp;&nbsp;&nbsp;&nbsp;<br></br>Thus Rissik's expected return is: $$\\frac{117.339-107.02}{107.02}=9.64\\%$$"
   ]
  },
  {
   "cell_type": "code",
   "execution_count": 5,
   "metadata": {},
   "outputs": [
    {
     "name": "stdout",
     "output_type": "stream",
     "text": [
      "Rissik's expected return is: 9.64%\n"
     ]
    }
   ],
   "source": [
    "Earn_disc=(118+6.38)/1.06\n",
    "Exp_port_return=(Earn_disc-107.02)/107.02\n",
    "print ('Rissik\\'s expected return is: '+ str(round(Exp_port_return,4)*100)+'%'   )\n"
   ]
  },
  {
   "cell_type": "markdown",
   "metadata": {},
   "source": [
    "### QUESTION 5 ###\n",
    "Based on the Sharpe ratio, is Mclean the most attractive investment?\n",
    "\n",
    "<br></br>\n",
    "&nbsp;&nbsp;&nbsp;&nbsp;&nbsp;&nbsp;\n",
    "\n",
    "The Sharpe ratio  of Mclean is given by:\n",
    "$$\\text{Sharpe Ratio of Mclean} = \\frac{E(R)-r}{\\sigma_{Mclean}} $$\n",
    "<br></br>\n",
    "<br></br>\n",
    "We have already calculated the expected portfolio return on the previous bullet (0.0964) and the volatility is given to us ($\\sigma_{Mclean}=8.2\\%$)\n",
    "<br></br>\n",
    "<br></br>\n",
    "&nbsp;&nbsp;&nbsp;&nbsp;&nbsp;&nbsp;Thus:\n",
    "<br></br>\n",
    "\n",
    "$$\\text{Sharpe Ratio of Mclean} = \\frac{0.0964-0.06}{0.082} $$"
   ]
  },
  {
   "cell_type": "code",
   "execution_count": 6,
   "metadata": {},
   "outputs": [],
   "source": [
    "sigmaMclean=0.082\n",
    "SharpeRatio= (Exp_port_return-r)/sigmaMclean"
   ]
  },
  {
   "cell_type": "code",
   "execution_count": 7,
   "metadata": {},
   "outputs": [
    {
     "name": "stdout",
     "output_type": "stream",
     "text": [
      "The Sharpe ratio for Mclean is: 0.444\n"
     ]
    }
   ],
   "source": [
    "print ('The Sharpe ratio for Mclean is: '+ str(round(SharpeRatio,3)))"
   ]
  },
  {
   "cell_type": "code",
   "execution_count": null,
   "metadata": {},
   "outputs": [],
   "source": []
  }
 ],
 "metadata": {
  "kernelspec": {
   "display_name": "Python 3",
   "language": "python",
   "name": "python3"
  },
  "language_info": {
   "codemirror_mode": {
    "name": "ipython",
    "version": 3
   },
   "file_extension": ".py",
   "mimetype": "text/x-python",
   "name": "python",
   "nbconvert_exporter": "python",
   "pygments_lexer": "ipython3",
   "version": "3.8.5"
  }
 },
 "nbformat": 4,
 "nbformat_minor": 4
}
