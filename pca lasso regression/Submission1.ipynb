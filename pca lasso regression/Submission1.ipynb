{
 "cells": [
  {
   "cell_type": "markdown",
   "metadata": {},
   "source": [
    "<h3><center>(20/09) MScFE 650 Machine Learning (C20-S1)</center></h3> \n",
    "<center>Groupwork Assignment Submission 1 M3</center> \t\n",
    "<center>Timezone Group 4 - D</center>\n",
    "<center>4 December 2020</center>\n",
    "\n",
    "\n",
    "<strong><center>Group Members</center></strong>\n",
    "\n",
    "|Name|E-mail Address|Non-Contributing members|\n",
    "|:-|:-|:-|\n",
    "|Jean-Paul Erasmus|jpberasmus@gmail.com||\n",
    "|Tilemachos Kosmetsas|kosmetsastilemahos@yahoo.com||\n",
    "|Christos Koutkos|christoskoutkos@msn.com||"
   ]
  },
  {
   "cell_type": "code",
   "execution_count": 1,
   "metadata": {},
   "outputs": [],
   "source": [
    "# Importing the libraries\n",
    "import numpy as np\n",
    "import matplotlib.pyplot as plt\n",
    "import pandas as pd\n",
    "import seaborn as sns\n",
    "from sklearn.preprocessing import MinMaxScaler, Normalizer\n",
    "from sklearn.decomposition import PCA\n",
    "from sklearn.linear_model import LinearRegression, Lasso\n",
    "from sklearn.model_selection import GridSearchCV, cross_val_score\n",
    "from sklearn.metrics import r2_score\n",
    "from numpy import cov\n",
    "from scipy.stats import pearsonr\n",
    "from scipy.stats import spearmanr\n",
    "from scipy import stats"
   ]
  },
  {
   "cell_type": "markdown",
   "metadata": {},
   "source": [
    "### 1.1. What is an Exchange-Traded Fund (ETF)?\n",
    "\n",
    "An ETF, or an Exchange-Traded Fund is a financial instrument, being traded just like stocks, that attempts to track the performance of a market index such as the S&P 500. In other words, an ETF is a collection or a \"basket of securities\", that is created with the purpose of tracking other financial products, such as the Dow Jones Industrial Average or many other actively or passively managed group of securities or commodities. ETF's aim is to mimic/replicate the behavior and returns of these assets.\n",
    "\n",
    "ETFs seek to achieve their stated objectives, but a significant tracking difference can exist over longer periods of time, due to fees, index changes, over/under-sampling, etc.\n",
    "\n",
    "An ETF must calculate its Net Asset Value on every business day, typically on the market close, but the “shares” of an ETF can be traded on an estimated price throughout the day. This is possible because of the distinctive creation/redemption structure of ETFs.\n",
    "\n",
    "ETFs tend to be cost-effective, liquid, diversified and have favourable tax benefits, which have made them popular investment vehicles over the last decade (Singal, V)."
   ]
  },
  {
   "cell_type": "markdown",
   "metadata": {},
   "source": [
    "### 2.1. Import the data from the provided .csv file."
   ]
  },
  {
   "cell_type": "code",
   "execution_count": 2,
   "metadata": {},
   "outputs": [
    {
     "data": {
      "text/html": [
       "<div>\n",
       "<style scoped>\n",
       "    .dataframe tbody tr th:only-of-type {\n",
       "        vertical-align: middle;\n",
       "    }\n",
       "\n",
       "    .dataframe tbody tr th {\n",
       "        vertical-align: top;\n",
       "    }\n",
       "\n",
       "    .dataframe thead th {\n",
       "        text-align: right;\n",
       "    }\n",
       "</style>\n",
       "<table border=\"1\" class=\"dataframe\">\n",
       "  <thead>\n",
       "    <tr style=\"text-align: right;\">\n",
       "      <th></th>\n",
       "      <th>LUXXX</th>\n",
       "      <th>MSCI ARGENTINA</th>\n",
       "      <th>BLP ORIENTE MEDIO</th>\n",
       "      <th>MSCI AUSTRALIA</th>\n",
       "      <th>MSCI AUSTRIA</th>\n",
       "      <th>MSCI BELGIUM</th>\n",
       "      <th>MSCI BRAZIL</th>\n",
       "      <th>MSCI CANADA</th>\n",
       "      <th>MSCI CHINA</th>\n",
       "      <th>MSCI DENMARK</th>\n",
       "      <th>...</th>\n",
       "      <th>MSCI NORWAY</th>\n",
       "      <th>MSCI PERU</th>\n",
       "      <th>MSCI RUSSIA</th>\n",
       "      <th>MSCI SINGAPORE</th>\n",
       "      <th>MSCI SOUTH AFRICA</th>\n",
       "      <th>MSCI SPAIN</th>\n",
       "      <th>MSCI SWEDEN</th>\n",
       "      <th>MSCI SWITZERLAND</th>\n",
       "      <th>MSCI UK</th>\n",
       "      <th>MSCI USA</th>\n",
       "    </tr>\n",
       "    <tr>\n",
       "      <th>Date</th>\n",
       "      <th></th>\n",
       "      <th></th>\n",
       "      <th></th>\n",
       "      <th></th>\n",
       "      <th></th>\n",
       "      <th></th>\n",
       "      <th></th>\n",
       "      <th></th>\n",
       "      <th></th>\n",
       "      <th></th>\n",
       "      <th></th>\n",
       "      <th></th>\n",
       "      <th></th>\n",
       "      <th></th>\n",
       "      <th></th>\n",
       "      <th></th>\n",
       "      <th></th>\n",
       "      <th></th>\n",
       "      <th></th>\n",
       "      <th></th>\n",
       "      <th></th>\n",
       "    </tr>\n",
       "  </thead>\n",
       "  <tbody>\n",
       "    <tr>\n",
       "      <th>2016-01-01</th>\n",
       "      <td>1390.716</td>\n",
       "      <td>2376.29</td>\n",
       "      <td>3525.9150</td>\n",
       "      <td>1068.79</td>\n",
       "      <td>106.70</td>\n",
       "      <td>105.38</td>\n",
       "      <td>1036.23</td>\n",
       "      <td>1663.27</td>\n",
       "      <td>59.47</td>\n",
       "      <td>8566.71</td>\n",
       "      <td>...</td>\n",
       "      <td>2373.17</td>\n",
       "      <td>811.96</td>\n",
       "      <td>404.73</td>\n",
       "      <td>1507.8101</td>\n",
       "      <td>1255.75</td>\n",
       "      <td>108.40</td>\n",
       "      <td>11136.65</td>\n",
       "      <td>1148.37</td>\n",
       "      <td>1818.40</td>\n",
       "      <td>1949.70</td>\n",
       "    </tr>\n",
       "    <tr>\n",
       "      <th>2016-01-08</th>\n",
       "      <td>1291.267</td>\n",
       "      <td>2260.85</td>\n",
       "      <td>3280.6683</td>\n",
       "      <td>1005.56</td>\n",
       "      <td>97.66</td>\n",
       "      <td>99.35</td>\n",
       "      <td>952.01</td>\n",
       "      <td>1586.18</td>\n",
       "      <td>54.63</td>\n",
       "      <td>8183.00</td>\n",
       "      <td>...</td>\n",
       "      <td>2209.38</td>\n",
       "      <td>751.09</td>\n",
       "      <td>388.05</td>\n",
       "      <td>1437.6600</td>\n",
       "      <td>1177.76</td>\n",
       "      <td>101.00</td>\n",
       "      <td>10389.93</td>\n",
       "      <td>1075.30</td>\n",
       "      <td>1722.00</td>\n",
       "      <td>1831.88</td>\n",
       "    </tr>\n",
       "    <tr>\n",
       "      <th>2016-01-15</th>\n",
       "      <td>1257.086</td>\n",
       "      <td>2217.50</td>\n",
       "      <td>3118.2981</td>\n",
       "      <td>985.38</td>\n",
       "      <td>93.54</td>\n",
       "      <td>97.32</td>\n",
       "      <td>904.64</td>\n",
       "      <td>1541.08</td>\n",
       "      <td>51.54</td>\n",
       "      <td>7755.73</td>\n",
       "      <td>...</td>\n",
       "      <td>2095.60</td>\n",
       "      <td>720.23</td>\n",
       "      <td>344.45</td>\n",
       "      <td>1372.9800</td>\n",
       "      <td>1133.72</td>\n",
       "      <td>97.34</td>\n",
       "      <td>10042.32</td>\n",
       "      <td>1056.01</td>\n",
       "      <td>1692.43</td>\n",
       "      <td>1789.56</td>\n",
       "    </tr>\n",
       "    <tr>\n",
       "      <th>2016-01-22</th>\n",
       "      <td>1254.167</td>\n",
       "      <td>2281.98</td>\n",
       "      <td>2935.0677</td>\n",
       "      <td>985.87</td>\n",
       "      <td>95.79</td>\n",
       "      <td>100.73</td>\n",
       "      <td>879.17</td>\n",
       "      <td>1582.10</td>\n",
       "      <td>51.15</td>\n",
       "      <td>8035.69</td>\n",
       "      <td>...</td>\n",
       "      <td>2173.55</td>\n",
       "      <td>745.96</td>\n",
       "      <td>367.44</td>\n",
       "      <td>1350.0500</td>\n",
       "      <td>1160.48</td>\n",
       "      <td>99.21</td>\n",
       "      <td>10469.07</td>\n",
       "      <td>1076.48</td>\n",
       "      <td>1719.61</td>\n",
       "      <td>1814.12</td>\n",
       "    </tr>\n",
       "    <tr>\n",
       "      <th>2016-01-29</th>\n",
       "      <td>1298.240</td>\n",
       "      <td>2462.19</td>\n",
       "      <td>3134.0840</td>\n",
       "      <td>1005.56</td>\n",
       "      <td>96.93</td>\n",
       "      <td>103.05</td>\n",
       "      <td>958.97</td>\n",
       "      <td>1638.84</td>\n",
       "      <td>52.13</td>\n",
       "      <td>8211.17</td>\n",
       "      <td>...</td>\n",
       "      <td>2214.88</td>\n",
       "      <td>825.18</td>\n",
       "      <td>400.93</td>\n",
       "      <td>1375.1000</td>\n",
       "      <td>1239.58</td>\n",
       "      <td>100.06</td>\n",
       "      <td>10432.42</td>\n",
       "      <td>1087.17</td>\n",
       "      <td>1774.40</td>\n",
       "      <td>1843.88</td>\n",
       "    </tr>\n",
       "  </tbody>\n",
       "</table>\n",
       "<p>5 rows × 35 columns</p>\n",
       "</div>"
      ],
      "text/plain": [
       "               LUXXX  MSCI ARGENTINA  BLP ORIENTE MEDIO  MSCI AUSTRALIA  \\\n",
       "Date                                                                      \n",
       "2016-01-01  1390.716         2376.29          3525.9150         1068.79   \n",
       "2016-01-08  1291.267         2260.85          3280.6683         1005.56   \n",
       "2016-01-15  1257.086         2217.50          3118.2981          985.38   \n",
       "2016-01-22  1254.167         2281.98          2935.0677          985.87   \n",
       "2016-01-29  1298.240         2462.19          3134.0840         1005.56   \n",
       "\n",
       "            MSCI AUSTRIA  MSCI BELGIUM  MSCI BRAZIL  MSCI CANADA  MSCI CHINA  \\\n",
       "Date                                                                           \n",
       "2016-01-01        106.70        105.38      1036.23      1663.27       59.47   \n",
       "2016-01-08         97.66         99.35       952.01      1586.18       54.63   \n",
       "2016-01-15         93.54         97.32       904.64      1541.08       51.54   \n",
       "2016-01-22         95.79        100.73       879.17      1582.10       51.15   \n",
       "2016-01-29         96.93        103.05       958.97      1638.84       52.13   \n",
       "\n",
       "            MSCI DENMARK  ...  MSCI NORWAY  MSCI PERU  MSCI RUSSIA  \\\n",
       "Date                      ...                                        \n",
       "2016-01-01       8566.71  ...      2373.17     811.96       404.73   \n",
       "2016-01-08       8183.00  ...      2209.38     751.09       388.05   \n",
       "2016-01-15       7755.73  ...      2095.60     720.23       344.45   \n",
       "2016-01-22       8035.69  ...      2173.55     745.96       367.44   \n",
       "2016-01-29       8211.17  ...      2214.88     825.18       400.93   \n",
       "\n",
       "            MSCI SINGAPORE  MSCI SOUTH AFRICA  MSCI SPAIN  MSCI SWEDEN  \\\n",
       "Date                                                                     \n",
       "2016-01-01       1507.8101            1255.75      108.40     11136.65   \n",
       "2016-01-08       1437.6600            1177.76      101.00     10389.93   \n",
       "2016-01-15       1372.9800            1133.72       97.34     10042.32   \n",
       "2016-01-22       1350.0500            1160.48       99.21     10469.07   \n",
       "2016-01-29       1375.1000            1239.58      100.06     10432.42   \n",
       "\n",
       "            MSCI SWITZERLAND  MSCI UK  MSCI USA  \n",
       "Date                                             \n",
       "2016-01-01           1148.37  1818.40   1949.70  \n",
       "2016-01-08           1075.30  1722.00   1831.88  \n",
       "2016-01-15           1056.01  1692.43   1789.56  \n",
       "2016-01-22           1076.48  1719.61   1814.12  \n",
       "2016-01-29           1087.17  1774.40   1843.88  \n",
       "\n",
       "[5 rows x 35 columns]"
      ]
     },
     "execution_count": 2,
     "metadata": {},
     "output_type": "execute_result"
    }
   ],
   "source": [
    "#We use pandas to import the data\n",
    "dataset = pd.read_csv('GWP Submission 1_Data.csv')\n",
    "\n",
    "#Transform the 'Date' column from string to 'Datetime Object'\n",
    "dataset['Date'] = pd.to_datetime(dataset['Date'])\n",
    "\n",
    "#Setting the 'Date' colunm as index\n",
    "dataset = dataset.set_index('Date')\n",
    "\n",
    "#Display the first 5 rows\n",
    "dataset.head()"
   ]
  },
  {
   "cell_type": "markdown",
   "metadata": {},
   "source": [
    "### 1.2. Pick one of the funds in the data set and find the weightings.  Show in Python table"
   ]
  },
  {
   "cell_type": "code",
   "execution_count": 3,
   "metadata": {},
   "outputs": [
    {
     "data": {
      "text/html": [
       "<div>\n",
       "<style scoped>\n",
       "    .dataframe tbody tr th:only-of-type {\n",
       "        vertical-align: middle;\n",
       "    }\n",
       "\n",
       "    .dataframe tbody tr th {\n",
       "        vertical-align: top;\n",
       "    }\n",
       "\n",
       "    .dataframe thead th {\n",
       "        text-align: right;\n",
       "    }\n",
       "</style>\n",
       "<table border=\"1\" class=\"dataframe\">\n",
       "  <thead>\n",
       "    <tr style=\"text-align: right;\">\n",
       "      <th></th>\n",
       "      <th>MSCI SOUTH AFRICA INDEX WEIGHT</th>\n",
       "    </tr>\n",
       "  </thead>\n",
       "  <tbody>\n",
       "    <tr>\n",
       "      <th>NASPERS N</th>\n",
       "      <td>35.09</td>\n",
       "    </tr>\n",
       "    <tr>\n",
       "      <th>FIRSTRAND</th>\n",
       "      <td>5.58</td>\n",
       "    </tr>\n",
       "    <tr>\n",
       "      <th>STANDARD BANK GROUP</th>\n",
       "      <td>4.04</td>\n",
       "    </tr>\n",
       "    <tr>\n",
       "      <th>ANGLOGOLD ASHANTI</th>\n",
       "      <td>3.50</td>\n",
       "    </tr>\n",
       "    <tr>\n",
       "      <th>IMPLALA PLATINUM HOLDINGS</th>\n",
       "      <td>3.35</td>\n",
       "    </tr>\n",
       "    <tr>\n",
       "      <th>SIBANYE STILLWATER</th>\n",
       "      <td>3.02</td>\n",
       "    </tr>\n",
       "    <tr>\n",
       "      <th>GOLD FIELDS</th>\n",
       "      <td>2.99</td>\n",
       "    </tr>\n",
       "    <tr>\n",
       "      <th>MTN GROUP</th>\n",
       "      <td>2.89</td>\n",
       "    </tr>\n",
       "    <tr>\n",
       "      <th>SANLAM</th>\n",
       "      <td>2.54</td>\n",
       "    </tr>\n",
       "    <tr>\n",
       "      <th>BIRD CORPORATION</th>\n",
       "      <td>2.41</td>\n",
       "    </tr>\n",
       "  </tbody>\n",
       "</table>\n",
       "</div>"
      ],
      "text/plain": [
       "                           MSCI SOUTH AFRICA INDEX WEIGHT\n",
       "NASPERS N                                           35.09\n",
       "FIRSTRAND                                            5.58\n",
       "STANDARD BANK GROUP                                  4.04\n",
       "ANGLOGOLD ASHANTI                                    3.50\n",
       "IMPLALA PLATINUM HOLDINGS                            3.35\n",
       "SIBANYE STILLWATER                                   3.02\n",
       "GOLD FIELDS                                          2.99\n",
       "MTN GROUP                                            2.89\n",
       "SANLAM                                               2.54\n",
       "BIRD CORPORATION                                     2.41"
      ]
     },
     "execution_count": 3,
     "metadata": {},
     "output_type": "execute_result"
    }
   ],
   "source": [
    "'''We have chosen the MSCI SOUTH AFRICA INDEX WEIGHT. According to the latest published document:\n",
    "https://www.msci.com/documents/10199/d2021dc7-efe2-4389-981a-f2e2eb5c25f6 \n",
    "We have created the following weight table with its' top ten constituents.\n",
    "'''\n",
    "#Create index columns\n",
    "msci_index = ['MSCI SOUTH AFRICA INDEX WEIGHT']\n",
    "\n",
    "#Create a list of stock names  \n",
    "stocks = [\n",
    "'NASPERS N',\n",
    "'FIRSTRAND',\n",
    "'STANDARD BANK GROUP',\n",
    "'ANGLOGOLD ASHANTI', \n",
    "'IMPLALA PLATINUM HOLDINGS', \n",
    "'SIBANYE STILLWATER',\n",
    "'GOLD FIELDS' ,\n",
    "'MTN GROUP',\n",
    "'SANLAM' ,\n",
    "'BIRD CORPORATION'\n",
    "]\n",
    "\n",
    "#Create a list of stock weights \n",
    "percentage = [\n",
    " 35.09\n",
    ",5.58\n",
    ",4.04\n",
    ",3.50 \n",
    ",3.35\n",
    ",3.02\n",
    ",2.99\n",
    ",2.89\n",
    ",2.54\n",
    ",2.41\n",
    "]\n",
    "\n",
    "#Create a dataframe with the above data\n",
    "weight = pd.DataFrame(percentage, index = stocks, columns = msci_index)\n",
    "\n",
    "#Display the dataframe\n",
    "weight"
   ]
  },
  {
   "cell_type": "markdown",
   "metadata": {},
   "source": [
    "### 3.1. Summarize the min, max, mean, median, and standard deviation of each column."
   ]
  },
  {
   "cell_type": "code",
   "execution_count": 4,
   "metadata": {},
   "outputs": [
    {
     "data": {
      "text/html": [
       "<div>\n",
       "<style scoped>\n",
       "    .dataframe tbody tr th:only-of-type {\n",
       "        vertical-align: middle;\n",
       "    }\n",
       "\n",
       "    .dataframe tbody tr th {\n",
       "        vertical-align: top;\n",
       "    }\n",
       "\n",
       "    .dataframe thead th {\n",
       "        text-align: right;\n",
       "    }\n",
       "</style>\n",
       "<table border=\"1\" class=\"dataframe\">\n",
       "  <thead>\n",
       "    <tr style=\"text-align: right;\">\n",
       "      <th></th>\n",
       "      <th>Min</th>\n",
       "      <th>Max</th>\n",
       "      <th>Mean</th>\n",
       "      <th>Median</th>\n",
       "      <th>Standard Deviation</th>\n",
       "    </tr>\n",
       "  </thead>\n",
       "  <tbody>\n",
       "    <tr>\n",
       "      <th>LUXXX</th>\n",
       "      <td>871.50</td>\n",
       "      <td>1812.0100</td>\n",
       "      <td>1457.231905</td>\n",
       "      <td>1491.08100</td>\n",
       "      <td>238.611226</td>\n",
       "    </tr>\n",
       "    <tr>\n",
       "      <th>MSCI ARGENTINA</th>\n",
       "      <td>844.09</td>\n",
       "      <td>4467.4100</td>\n",
       "      <td>2526.652262</td>\n",
       "      <td>2541.97500</td>\n",
       "      <td>899.378857</td>\n",
       "    </tr>\n",
       "    <tr>\n",
       "      <th>BLP ORIENTE MEDIO</th>\n",
       "      <td>1722.87</td>\n",
       "      <td>3750.8655</td>\n",
       "      <td>3029.482978</td>\n",
       "      <td>3113.41405</td>\n",
       "      <td>516.678825</td>\n",
       "    </tr>\n",
       "    <tr>\n",
       "      <th>MSCI AUSTRALIA</th>\n",
       "      <td>957.15</td>\n",
       "      <td>1431.4600</td>\n",
       "      <td>1183.940159</td>\n",
       "      <td>1177.37500</td>\n",
       "      <td>101.261295</td>\n",
       "    </tr>\n",
       "    <tr>\n",
       "      <th>MSCI AUSTRIA</th>\n",
       "      <td>78.29</td>\n",
       "      <td>177.5800</td>\n",
       "      <td>127.418889</td>\n",
       "      <td>130.63500</td>\n",
       "      <td>24.770889</td>\n",
       "    </tr>\n",
       "  </tbody>\n",
       "</table>\n",
       "</div>"
      ],
      "text/plain": [
       "                       Min        Max         Mean      Median  \\\n",
       "LUXXX               871.50  1812.0100  1457.231905  1491.08100   \n",
       "MSCI ARGENTINA      844.09  4467.4100  2526.652262  2541.97500   \n",
       "BLP ORIENTE MEDIO  1722.87  3750.8655  3029.482978  3113.41405   \n",
       "MSCI AUSTRALIA      957.15  1431.4600  1183.940159  1177.37500   \n",
       "MSCI AUSTRIA         78.29   177.5800   127.418889   130.63500   \n",
       "\n",
       "                   Standard Deviation  \n",
       "LUXXX                      238.611226  \n",
       "MSCI ARGENTINA             899.378857  \n",
       "BLP ORIENTE MEDIO          516.678825  \n",
       "MSCI AUSTRALIA             101.261295  \n",
       "MSCI AUSTRIA                24.770889  "
      ]
     },
     "execution_count": 4,
     "metadata": {},
     "output_type": "execute_result"
    }
   ],
   "source": [
    "#Concatenate the various datapoints using build in functions\n",
    "info = (pd.concat([dataset.min(), dataset.max(), dataset.mean(), dataset.median(), dataset.std()],axis=1, sort=False))\n",
    "\n",
    "#Add column names\n",
    "info.columns = ['Min','Max','Mean','Median','Standard Deviation']\n",
    "\n",
    "#Display\n",
    "info.head()"
   ]
  },
  {
   "cell_type": "markdown",
   "metadata": {},
   "source": [
    "### 4.1. Write a Python function that graphs 1 time series with appropriate time labels"
   ]
  },
  {
   "cell_type": "code",
   "execution_count": 5,
   "metadata": {},
   "outputs": [
    {
     "data": {
      "image/png": "[encoded data removed]",
      "text/plain": [
       "<Figure size 432x288 with 1 Axes>"
      ]
     },
     "metadata": {
      "needs_background": "light"
     },
     "output_type": "display_data"
    }
   ],
   "source": [
    "#Use matplotlib to plot the timeseries data\n",
    "\n",
    "def plot_1_graph(column):\n",
    "    '''\n",
    "    Here a function was created to plot one time series. The function takes the time series as an argument. \n",
    "    To demonstrate, we plot MSCI SOUTH AFRICA\n",
    "    '''\n",
    "    plt.plot(dataset[column], label=column)\n",
    "    plt.xlabel('Date')\n",
    "    plt.xticks(rotation=45)\n",
    "    plt.ylabel('NAV of MSCI index')\n",
    "    plt.title('MSCI performance over time')\n",
    "    plt.legend()\n",
    "    plt.show()\n",
    "\n",
    "plot_1_graph('MSCI SOUTH AFRICA')"
   ]
  },
  {
   "cell_type": "markdown",
   "metadata": {},
   "source": [
    "### 4.2. Write a Python function that graphs 2 time series on the same plot, with labels"
   ]
  },
  {
   "cell_type": "code",
   "execution_count": 6,
   "metadata": {},
   "outputs": [
    {
     "data": {
      "image/png": "[encoded data removed]",
      "text/plain": [
       "<Figure size 432x288 with 1 Axes>"
      ]
     },
     "metadata": {
      "needs_background": "light"
     },
     "output_type": "display_data"
    }
   ],
   "source": [
    "#Use matplotlib to plot the timeseries data\n",
    "\n",
    "def plot_2_graphs(column1, column2):\n",
    "    ''' The function takes two time series as arguments, and plots them simultaneuously with labels'''\n",
    "    plt.plot(dataset[column1], label=column1)\n",
    "    plt.plot(dataset[column2], label=column2)\n",
    "    plt.xlabel('Date')\n",
    "    plt.xticks(rotation=45)\n",
    "    plt.ylabel('NAV of MSCI index')\n",
    "    plt.title('MSCI performance over time')\n",
    "    plt.legend()\n",
    "    plt.show()\n",
    "\n",
    "plot_2_graphs('MSCI SOUTH AFRICA', 'MSCI USA')"
   ]
  },
  {
   "cell_type": "markdown",
   "metadata": {},
   "source": [
    "### 4.3. Write a Python function that compares the two-return series"
   ]
  },
  {
   "cell_type": "code",
   "execution_count": 7,
   "metadata": {},
   "outputs": [
    {
     "data": {
      "image/png": "[encoded data removed]",
      "text/plain": [
       "<Figure size 432x288 with 1 Axes>"
      ]
     },
     "metadata": {
      "needs_background": "light"
     },
     "output_type": "display_data"
    }
   ],
   "source": [
    "#The below graph indicated a scaled difference between the NAV of the MSCI USA  index and MSCI South Africa index over time\n",
    "\n",
    "#1. We start by scaling all of the data\n",
    "\n",
    "#scaled = dataset.drop(['Date'], axis=1) #Drop the date column\n",
    "scaled = pd.DataFrame(MinMaxScaler().fit_transform(dataset)) #Scale the data\n",
    "#scaled = pd.concat([dataset['Date'], scaled], axis = 1) #Add back the date column\n",
    "scaled.columns = dataset.columns\n",
    "\n",
    "#2. Calculate the difference between the two stated indices\n",
    "\n",
    "difference = scaled['MSCI SOUTH AFRICA'].sub(scaled['MSCI USA'],fill_value=0)  \n",
    "#difference = pd.concat([dataset['Date'], difference], axis = 1) #Add back the date column\n",
    "\n",
    "#3. Use matplotlib to plot the differenced timeseries data\n",
    "\n",
    "plt.plot(difference, label='Scaled Difference')\n",
    "plt.xlabel('Date')\n",
    "plt.xticks(rotation=90)\n",
    "#plt.xticks(np.arange(0, len(dataset['Date'])+1, 10))\n",
    "plt.ylabel('Scaled difference in NAV')\n",
    "plt.title('The Scaled Difference in NAV of MSCI USA and MSCI South Africa over time')\n",
    "plt.legend()\n",
    "plt.show()"
   ]
  },
  {
   "cell_type": "markdown",
   "metadata": {},
   "source": [
    "### 5. Correlation"
   ]
  },
  {
   "cell_type": "code",
   "execution_count": 8,
   "metadata": {},
   "outputs": [],
   "source": [
    "#We start by picking 8 random indices and creating both an array and a dataframe, because different libraries require different formats.\n",
    "\n",
    "corrdataframe = pd.DataFrame({1: dataset['MSCI ARGENTINA'], 2: dataset['MSCI AUSTRALIA'], 3: dataset['MSCI BELGIUM'], 4: dataset['MSCI BRAZIL'], 5: dataset['MSCI CHINA'], 6: dataset['MSCI KOREA'], 7: dataset['MSCI SOUTH AFRICA'], 8: dataset['MSCI USA']})\n",
    "corrdataarray = np.array([dataset['MSCI ARGENTINA'], dataset['MSCI AUSTRALIA'], dataset['MSCI BELGIUM'], dataset['MSCI BRAZIL'], dataset['MSCI CHINA'], dataset['MSCI KOREA'], dataset['MSCI SOUTH AFRICA'], dataset['MSCI USA']])"
   ]
  },
  {
   "cell_type": "markdown",
   "metadata": {},
   "source": [
    "### 5.1. Pick 8 of the columns.  Compute all the pairwise correlations using Pearson correlation"
   ]
  },
  {
   "cell_type": "markdown",
   "metadata": {},
   "source": [
    "The 8 indices that we will analyse is:\n",
    "\n",
    "1. MSCI ARGENTINA, \n",
    "2. MSCI AUSTRALIA, \n",
    "3. MSCI BELGIUM, \n",
    "4. MSCI BRAZIL, \n",
    "5. MSCI CHINA, \n",
    "6. MSCI KOREA, \n",
    "7. MSCI SOUTH AFRICA, \n",
    "8. MSCI USA."
   ]
  },
  {
   "cell_type": "markdown",
   "metadata": {},
   "source": [
    "$$Pearson^\\prime s\\ \\rho=\\frac{cov\\left(X,Y\\right)}{\\sigma\\left(X\\right)\\sigma\\left(Y\\right)}$$"
   ]
  },
  {
   "cell_type": "code",
   "execution_count": 9,
   "metadata": {},
   "outputs": [
    {
     "data": {
      "image/png": "[encoded data removed]",
      "text/plain": [
       "<Figure size 432x288 with 2 Axes>"
      ]
     },
     "metadata": {
      "needs_background": "light"
     },
     "output_type": "display_data"
    }
   ],
   "source": [
    "#Calculating the Pearson correlation coefficient\n",
    "pearsoncor = np.corrcoef(corrdataarray)\n",
    "\n",
    "#Display the data in a heatmap\n",
    "ax = sns.heatmap(pearsoncor, linewidth=0.2, annot=True)\n",
    "bottom, top = ax.get_ylim()\n",
    "ax.set_ylim(bottom + 0.5, top - 0.5)\n",
    "\n",
    "plt.show()"
   ]
  },
  {
   "cell_type": "markdown",
   "metadata": {},
   "source": [
    "### 5.2. Recompute the calculation, instead using Spearman correlation"
   ]
  },
  {
   "cell_type": "markdown",
   "metadata": {},
   "source": [
    "$$ \\text{Spearman's  } \\rho =1 - \\frac{6\\sum d_{i}^{2}}{n(n^2-1)}$$\n",
    "where $d_i$ is the difference between the ranking of $x_i$ and $y_i$: \n",
    "$$d_i = r(x_i)-r(y_i)$$ "
   ]
  },
  {
   "cell_type": "code",
   "execution_count": 10,
   "metadata": {},
   "outputs": [
    {
     "data": {
      "image/png": "[encoded data removed]",
      "text/plain": [
       "<Figure size 432x288 with 2 Axes>"
      ]
     },
     "metadata": {
      "needs_background": "light"
     },
     "output_type": "display_data"
    }
   ],
   "source": [
    "#We are using the Seaborn module to visualize the covariance between the variables selected.\n",
    "#Calculating the Spearman correlation coefficient and p statistic.\n",
    "spearcorr, spearcorr_p_value = np.asarray(spearmanr(corrdataframe))\n",
    "\n",
    "#Display the data in a heatmap\n",
    "ax = sns.heatmap(spearcorr, linewidth=0.2, annot=True)\n",
    "bottom, top = ax.get_ylim()\n",
    "ax.set_ylim(bottom + 0.5, top - 0.5)\n",
    "\n",
    "plt.show()"
   ]
  },
  {
   "cell_type": "markdown",
   "metadata": {},
   "source": [
    "### 5.3. Recompute the calculation, instead of using Kendall correlation"
   ]
  },
  {
   "cell_type": "markdown",
   "metadata": {},
   "source": [
    "While Pearson's corelation takes raw data into account, Spearmans correlation and Kendal's tau, take into account the ranking of the variables and the concordant and discordant pairs accordingly. We notice that taking only the rank of each value into account, the covariance appears to be more significant, while Kendals Tau produces \"looser\" dependencies.$$\\tau= \\frac{P-Q}{n\\left(n-1\\right)/2}$$\n",
    "\n",
    "$P= number \\ of \\ concodant \\ pairs,$\n",
    "$Q = number \\ of \\ discordant \\ pairs$"
   ]
  },
  {
   "cell_type": "markdown",
   "metadata": {},
   "source": [
    "While Pearson's corelation takes raw data into account, Spearmans correlation and Kendal's tau, take into account the ranking of the variables and the concordant and discordant pairs accordingly. We notice that taking only the rank of each value into account, the covariance appears to be more significant, while Kendals Tau produces \"looser\" dependencies."
   ]
  },
  {
   "cell_type": "code",
   "execution_count": 11,
   "metadata": {},
   "outputs": [
    {
     "data": {
      "image/png": "[encoded data removed]",
      "text/plain": [
       "<Figure size 432x288 with 2 Axes>"
      ]
     },
     "metadata": {
      "needs_background": "light"
     },
     "output_type": "display_data"
    }
   ],
   "source": [
    "#Calculating Kendall's Tau\n",
    "kendalltaucorr = corrdataframe.corr(method='kendall')\n",
    "\n",
    "#Display the data in a heatmap\n",
    "ax = sns.heatmap(kendalltaucorr, linewidth=0.2, annot=True)\n",
    "bottom, top = ax.get_ylim()\n",
    "ax.set_ylim(bottom + 0.5, top - 0.5)\n",
    "\n",
    "plt.show()"
   ]
  },
  {
   "cell_type": "markdown",
   "metadata": {},
   "source": [
    "### 6.1. Choose one of the 35 variables to serve as your response variable (e.g., LUXXX)"
   ]
  },
  {
   "cell_type": "code",
   "execution_count": 12,
   "metadata": {},
   "outputs": [],
   "source": [
    "#We have chosen the MSCI SOUTH AFRICA INDEX as our response variable\n",
    "y = dataset['MSCI SOUTH AFRICA']\n",
    "\n",
    "#Droping the response variable from the dataset that we will use to train the models\n",
    "dataset_droped = dataset.drop(columns='MSCI SOUTH AFRICA')"
   ]
  },
  {
   "cell_type": "code",
   "execution_count": 13,
   "metadata": {},
   "outputs": [
    {
     "data": {
      "text/html": [
       "<div>\n",
       "<style scoped>\n",
       "    .dataframe tbody tr th:only-of-type {\n",
       "        vertical-align: middle;\n",
       "    }\n",
       "\n",
       "    .dataframe tbody tr th {\n",
       "        vertical-align: top;\n",
       "    }\n",
       "\n",
       "    .dataframe thead th {\n",
       "        text-align: right;\n",
       "    }\n",
       "</style>\n",
       "<table border=\"1\" class=\"dataframe\">\n",
       "  <thead>\n",
       "    <tr style=\"text-align: right;\">\n",
       "      <th></th>\n",
       "      <th>LUXXX</th>\n",
       "      <th>MSCI ARGENTINA</th>\n",
       "      <th>BLP ORIENTE MEDIO</th>\n",
       "      <th>MSCI AUSTRALIA</th>\n",
       "      <th>MSCI AUSTRIA</th>\n",
       "      <th>MSCI BELGIUM</th>\n",
       "      <th>MSCI BRAZIL</th>\n",
       "      <th>MSCI CANADA</th>\n",
       "      <th>MSCI CHINA</th>\n",
       "      <th>MSCI DENMARK</th>\n",
       "      <th>...</th>\n",
       "      <th>MSCI NEW ZEALAND</th>\n",
       "      <th>MSCI NORWAY</th>\n",
       "      <th>MSCI PERU</th>\n",
       "      <th>MSCI RUSSIA</th>\n",
       "      <th>MSCI SINGAPORE</th>\n",
       "      <th>MSCI SPAIN</th>\n",
       "      <th>MSCI SWEDEN</th>\n",
       "      <th>MSCI SWITZERLAND</th>\n",
       "      <th>MSCI UK</th>\n",
       "      <th>MSCI USA</th>\n",
       "    </tr>\n",
       "    <tr>\n",
       "      <th>Date</th>\n",
       "      <th></th>\n",
       "      <th></th>\n",
       "      <th></th>\n",
       "      <th></th>\n",
       "      <th></th>\n",
       "      <th></th>\n",
       "      <th></th>\n",
       "      <th></th>\n",
       "      <th></th>\n",
       "      <th></th>\n",
       "      <th></th>\n",
       "      <th></th>\n",
       "      <th></th>\n",
       "      <th></th>\n",
       "      <th></th>\n",
       "      <th></th>\n",
       "      <th></th>\n",
       "      <th></th>\n",
       "      <th></th>\n",
       "      <th></th>\n",
       "      <th></th>\n",
       "    </tr>\n",
       "  </thead>\n",
       "  <tbody>\n",
       "    <tr>\n",
       "      <th>2016-01-08</th>\n",
       "      <td>-99.449</td>\n",
       "      <td>-115.44</td>\n",
       "      <td>-245.2467</td>\n",
       "      <td>-63.23</td>\n",
       "      <td>-9.04</td>\n",
       "      <td>-6.03</td>\n",
       "      <td>-84.22</td>\n",
       "      <td>-77.09</td>\n",
       "      <td>-4.84</td>\n",
       "      <td>-383.71</td>\n",
       "      <td>...</td>\n",
       "      <td>-2.10</td>\n",
       "      <td>-163.79</td>\n",
       "      <td>-60.87</td>\n",
       "      <td>-16.68</td>\n",
       "      <td>-70.1501</td>\n",
       "      <td>-7.40</td>\n",
       "      <td>-746.72</td>\n",
       "      <td>-73.07</td>\n",
       "      <td>-96.40</td>\n",
       "      <td>-117.82</td>\n",
       "    </tr>\n",
       "    <tr>\n",
       "      <th>2016-01-15</th>\n",
       "      <td>-34.181</td>\n",
       "      <td>-43.35</td>\n",
       "      <td>-162.3702</td>\n",
       "      <td>-20.18</td>\n",
       "      <td>-4.12</td>\n",
       "      <td>-2.03</td>\n",
       "      <td>-47.37</td>\n",
       "      <td>-45.10</td>\n",
       "      <td>-3.09</td>\n",
       "      <td>-427.27</td>\n",
       "      <td>...</td>\n",
       "      <td>0.25</td>\n",
       "      <td>-113.78</td>\n",
       "      <td>-30.86</td>\n",
       "      <td>-43.60</td>\n",
       "      <td>-64.6800</td>\n",
       "      <td>-3.66</td>\n",
       "      <td>-347.61</td>\n",
       "      <td>-19.29</td>\n",
       "      <td>-29.57</td>\n",
       "      <td>-42.32</td>\n",
       "    </tr>\n",
       "    <tr>\n",
       "      <th>2016-01-22</th>\n",
       "      <td>-2.919</td>\n",
       "      <td>64.48</td>\n",
       "      <td>-183.2304</td>\n",
       "      <td>0.49</td>\n",
       "      <td>2.25</td>\n",
       "      <td>3.41</td>\n",
       "      <td>-25.47</td>\n",
       "      <td>41.02</td>\n",
       "      <td>-0.39</td>\n",
       "      <td>279.96</td>\n",
       "      <td>...</td>\n",
       "      <td>-1.72</td>\n",
       "      <td>77.95</td>\n",
       "      <td>25.73</td>\n",
       "      <td>22.99</td>\n",
       "      <td>-22.9300</td>\n",
       "      <td>1.87</td>\n",
       "      <td>426.75</td>\n",
       "      <td>20.47</td>\n",
       "      <td>27.18</td>\n",
       "      <td>24.56</td>\n",
       "    </tr>\n",
       "    <tr>\n",
       "      <th>2016-01-29</th>\n",
       "      <td>44.073</td>\n",
       "      <td>180.21</td>\n",
       "      <td>199.0163</td>\n",
       "      <td>19.69</td>\n",
       "      <td>1.14</td>\n",
       "      <td>2.32</td>\n",
       "      <td>79.80</td>\n",
       "      <td>56.74</td>\n",
       "      <td>0.98</td>\n",
       "      <td>175.48</td>\n",
       "      <td>...</td>\n",
       "      <td>0.23</td>\n",
       "      <td>41.33</td>\n",
       "      <td>79.22</td>\n",
       "      <td>33.49</td>\n",
       "      <td>25.0500</td>\n",
       "      <td>0.85</td>\n",
       "      <td>-36.65</td>\n",
       "      <td>10.69</td>\n",
       "      <td>54.79</td>\n",
       "      <td>29.76</td>\n",
       "    </tr>\n",
       "    <tr>\n",
       "      <th>2016-02-05</th>\n",
       "      <td>-23.608</td>\n",
       "      <td>16.72</td>\n",
       "      <td>96.4074</td>\n",
       "      <td>-4.64</td>\n",
       "      <td>-2.52</td>\n",
       "      <td>-6.82</td>\n",
       "      <td>23.62</td>\n",
       "      <td>-12.17</td>\n",
       "      <td>-1.25</td>\n",
       "      <td>-620.96</td>\n",
       "      <td>...</td>\n",
       "      <td>0.69</td>\n",
       "      <td>9.64</td>\n",
       "      <td>8.14</td>\n",
       "      <td>-12.93</td>\n",
       "      <td>3.8100</td>\n",
       "      <td>-3.47</td>\n",
       "      <td>-172.87</td>\n",
       "      <td>-45.05</td>\n",
       "      <td>-67.52</td>\n",
       "      <td>-59.15</td>\n",
       "    </tr>\n",
       "  </tbody>\n",
       "</table>\n",
       "<p>5 rows × 34 columns</p>\n",
       "</div>"
      ],
      "text/plain": [
       "             LUXXX  MSCI ARGENTINA  BLP ORIENTE MEDIO  MSCI AUSTRALIA  \\\n",
       "Date                                                                    \n",
       "2016-01-08 -99.449         -115.44          -245.2467          -63.23   \n",
       "2016-01-15 -34.181          -43.35          -162.3702          -20.18   \n",
       "2016-01-22  -2.919           64.48          -183.2304            0.49   \n",
       "2016-01-29  44.073          180.21           199.0163           19.69   \n",
       "2016-02-05 -23.608           16.72            96.4074           -4.64   \n",
       "\n",
       "            MSCI AUSTRIA  MSCI BELGIUM  MSCI BRAZIL  MSCI CANADA  MSCI CHINA  \\\n",
       "Date                                                                           \n",
       "2016-01-08         -9.04         -6.03       -84.22       -77.09       -4.84   \n",
       "2016-01-15         -4.12         -2.03       -47.37       -45.10       -3.09   \n",
       "2016-01-22          2.25          3.41       -25.47        41.02       -0.39   \n",
       "2016-01-29          1.14          2.32        79.80        56.74        0.98   \n",
       "2016-02-05         -2.52         -6.82        23.62       -12.17       -1.25   \n",
       "\n",
       "            MSCI DENMARK  ...  MSCI NEW ZEALAND  MSCI NORWAY  MSCI PERU  \\\n",
       "Date                      ...                                             \n",
       "2016-01-08       -383.71  ...             -2.10      -163.79     -60.87   \n",
       "2016-01-15       -427.27  ...              0.25      -113.78     -30.86   \n",
       "2016-01-22        279.96  ...             -1.72        77.95      25.73   \n",
       "2016-01-29        175.48  ...              0.23        41.33      79.22   \n",
       "2016-02-05       -620.96  ...              0.69         9.64       8.14   \n",
       "\n",
       "            MSCI RUSSIA  MSCI SINGAPORE  MSCI SPAIN  MSCI SWEDEN  \\\n",
       "Date                                                               \n",
       "2016-01-08       -16.68        -70.1501       -7.40      -746.72   \n",
       "2016-01-15       -43.60        -64.6800       -3.66      -347.61   \n",
       "2016-01-22        22.99        -22.9300        1.87       426.75   \n",
       "2016-01-29        33.49         25.0500        0.85       -36.65   \n",
       "2016-02-05       -12.93          3.8100       -3.47      -172.87   \n",
       "\n",
       "            MSCI SWITZERLAND  MSCI UK  MSCI USA  \n",
       "Date                                             \n",
       "2016-01-08            -73.07   -96.40   -117.82  \n",
       "2016-01-15            -19.29   -29.57    -42.32  \n",
       "2016-01-22             20.47    27.18     24.56  \n",
       "2016-01-29             10.69    54.79     29.76  \n",
       "2016-02-05            -45.05   -67.52    -59.15  \n",
       "\n",
       "[5 rows x 34 columns]"
      ]
     },
     "execution_count": 13,
     "metadata": {},
     "output_type": "execute_result"
    }
   ],
   "source": [
    "#We are taking the first differences, on our dataset's time series.\n",
    "level_changes = dataset_droped.diff().iloc[1:,:]\n",
    "level_changes.head()"
   ]
  },
  {
   "cell_type": "markdown",
   "metadata": {},
   "source": [
    "### 7.1. What do these 2 methodologies have in common?"
   ]
  },
  {
   "cell_type": "markdown",
   "metadata": {},
   "source": [
    "1.\tBoth methods help in reducing the dimensions of the variables. \n",
    "\n",
    "2.\tWhen considering the PCA regression method and the LASSO method, both models can be used to regress data.\n"
   ]
  },
  {
   "cell_type": "markdown",
   "metadata": {},
   "source": [
    "### 7.2. How do these 2 methodologies differ?"
   ]
  },
  {
   "cell_type": "markdown",
   "metadata": {},
   "source": [
    "1.\tLASSO is a penalized regression models, meaning that if a if the coefficient of the linear regression associated is below the threshold, then the coefficient is set to zero, meaning it is disregarded. Whereas PCA is smoother because it will provide vectors that are a linear combination of all the features.\n",
    "\n",
    "2.\tLASSO is a regression model that has the potential to be used for feature selection. Whereas PCA is a dimensionality reduction method that aims to minimize the variance in the predictor space by using linear combinations of predictors, it helps understand your predictors by putting the most weight on the more important predictors."
   ]
  },
  {
   "cell_type": "markdown",
   "metadata": {},
   "source": [
    "### 8.1. Principal Components"
   ]
  },
  {
   "cell_type": "code",
   "execution_count": 14,
   "metadata": {},
   "outputs": [
    {
     "data": {
      "text/plain": [
       "PCA()"
      ]
     },
     "execution_count": 14,
     "metadata": {},
     "output_type": "execute_result"
    }
   ],
   "source": [
    "#Initiating and fitting the PCA model\n",
    "PCA_analysis = PCA()\n",
    "PCA_analysis.fit(level_changes)"
   ]
  },
  {
   "cell_type": "code",
   "execution_count": 15,
   "metadata": {},
   "outputs": [
    {
     "data": {
      "text/plain": [
       "array([2.12793505e+05, 5.78321700e+04, 2.24905749e+04, 2.09871427e+04,\n",
       "       1.43025315e+04, 6.83510941e+03, 4.96238175e+03, 2.06819358e+03,\n",
       "       1.61908848e+03, 9.64685209e+02, 8.56541837e+02, 5.27641027e+02,\n",
       "       4.42600174e+02, 3.70085677e+02, 3.43253333e+02, 2.32538062e+02,\n",
       "       2.07377793e+02, 1.86227927e+02, 1.01054377e+02, 8.23461818e+01,\n",
       "       2.22660591e+01, 1.51996534e+01, 9.78480779e+00, 7.07780287e+00,\n",
       "       6.30250852e+00, 3.29374542e+00, 2.50830423e+00, 2.13394215e+00,\n",
       "       1.67319701e+00, 1.22930209e+00, 1.02795198e+00, 5.68193980e-01,\n",
       "       3.67028743e-01, 2.01113517e-01])"
      ]
     },
     "execution_count": 15,
     "metadata": {},
     "output_type": "execute_result"
    }
   ],
   "source": [
    "'''\n",
    "Below is the set of eigenvalues(descending order-meaning most important ones come first), \n",
    "of our var-covariance matrix based on our dataset \"level_changes\"\n",
    "'''\n",
    "PCA_analysis.explained_variance_"
   ]
  },
  {
   "cell_type": "markdown",
   "metadata": {},
   "source": [
    "### 8.2. Show the amount of variation explained by the first 5 components."
   ]
  },
  {
   "cell_type": "code",
   "execution_count": 16,
   "metadata": {},
   "outputs": [
    {
     "data": {
      "text/plain": [
       "0.9429400665398449"
      ]
     },
     "execution_count": 16,
     "metadata": {},
     "output_type": "execute_result"
    }
   ],
   "source": [
    "#Below is the percentage explained by the fist 5 principal components (eigenvalues).\n",
    "PCA_analysis.explained_variance_ratio_[:5].sum()"
   ]
  },
  {
   "cell_type": "code",
   "execution_count": 17,
   "metadata": {},
   "outputs": [
    {
     "data": {
      "image/png": "[encoded data removed]",
      "text/plain": [
       "<Figure size 432x288 with 1 Axes>"
      ]
     },
     "metadata": {
      "needs_background": "light"
     },
     "output_type": "display_data"
    }
   ],
   "source": [
    "'''\n",
    "Below is the graph of the variance explained by each eigenvalue. \n",
    "The graph shows us that the first few eigenvalues explain most of the variance (surface area below the blue line)\n",
    "'''\n",
    "plt.plot(PCA_analysis.explained_variance_ratio_)\n",
    "plt.title('Explained Variance ratio graph')\n",
    "plt.xlabel('Eigenvalue indexes')\n",
    "plt.ylabel('Percentage Explained')\n",
    "plt.show()"
   ]
  },
  {
   "cell_type": "markdown",
   "metadata": {},
   "source": [
    "### 8.3. How many components are needed to express 80% of the variation of the data?"
   ]
  },
  {
   "cell_type": "code",
   "execution_count": 18,
   "metadata": {},
   "outputs": [
    {
     "data": {
      "text/plain": [
       "0.8416140996172594"
      ]
     },
     "execution_count": 18,
     "metadata": {},
     "output_type": "execute_result"
    }
   ],
   "source": [
    "'''\n",
    "We only need the first 3 principal components to explain more than 80% of the total variance\n",
    "'''\n",
    "PCA_analysis.explained_variance_ratio_[:3].sum()"
   ]
  },
  {
   "cell_type": "markdown",
   "metadata": {},
   "source": [
    "### 9.1. PCA Regression"
   ]
  },
  {
   "cell_type": "code",
   "execution_count": 19,
   "metadata": {},
   "outputs": [
    {
     "data": {
      "text/html": [
       "<div>\n",
       "<style scoped>\n",
       "    .dataframe tbody tr th:only-of-type {\n",
       "        vertical-align: middle;\n",
       "    }\n",
       "\n",
       "    .dataframe tbody tr th {\n",
       "        vertical-align: top;\n",
       "    }\n",
       "\n",
       "    .dataframe thead th {\n",
       "        text-align: right;\n",
       "    }\n",
       "</style>\n",
       "<table border=\"1\" class=\"dataframe\">\n",
       "  <thead>\n",
       "    <tr style=\"text-align: right;\">\n",
       "      <th></th>\n",
       "      <th>0</th>\n",
       "      <th>1</th>\n",
       "      <th>2</th>\n",
       "      <th>3</th>\n",
       "      <th>4</th>\n",
       "    </tr>\n",
       "    <tr>\n",
       "      <th>Date</th>\n",
       "      <th></th>\n",
       "      <th></th>\n",
       "      <th></th>\n",
       "      <th></th>\n",
       "      <th></th>\n",
       "    </tr>\n",
       "  </thead>\n",
       "  <tbody>\n",
       "    <tr>\n",
       "      <th>2016-01-08</th>\n",
       "      <td>1217.343795</td>\n",
       "      <td>85.520415</td>\n",
       "      <td>138.254359</td>\n",
       "      <td>54.253799</td>\n",
       "      <td>-139.071147</td>\n",
       "    </tr>\n",
       "    <tr>\n",
       "      <th>2016-01-15</th>\n",
       "      <td>641.892640</td>\n",
       "      <td>87.668379</td>\n",
       "      <td>-75.452268</td>\n",
       "      <td>-238.767968</td>\n",
       "      <td>12.928291</td>\n",
       "    </tr>\n",
       "    <tr>\n",
       "      <th>2016-01-22</th>\n",
       "      <td>-109.752049</td>\n",
       "      <td>-648.255837</td>\n",
       "      <td>-1.116345</td>\n",
       "      <td>-17.281939</td>\n",
       "      <td>-25.933951</td>\n",
       "    </tr>\n",
       "    <tr>\n",
       "      <th>2016-01-29</th>\n",
       "      <td>-411.549456</td>\n",
       "      <td>205.583215</td>\n",
       "      <td>-330.876538</td>\n",
       "      <td>133.946098</td>\n",
       "      <td>56.385955</td>\n",
       "    </tr>\n",
       "    <tr>\n",
       "      <th>2016-02-05</th>\n",
       "      <td>491.107366</td>\n",
       "      <td>141.531072</td>\n",
       "      <td>-46.614960</td>\n",
       "      <td>-465.793446</td>\n",
       "      <td>-127.962901</td>\n",
       "    </tr>\n",
       "  </tbody>\n",
       "</table>\n",
       "</div>"
      ],
      "text/plain": [
       "                      0           1           2           3           4\n",
       "Date                                                                   \n",
       "2016-01-08  1217.343795   85.520415  138.254359   54.253799 -139.071147\n",
       "2016-01-15   641.892640   87.668379  -75.452268 -238.767968   12.928291\n",
       "2016-01-22  -109.752049 -648.255837   -1.116345  -17.281939  -25.933951\n",
       "2016-01-29  -411.549456  205.583215 -330.876538  133.946098   56.385955\n",
       "2016-02-05   491.107366  141.531072  -46.614960 -465.793446 -127.962901"
      ]
     },
     "execution_count": 19,
     "metadata": {},
     "output_type": "execute_result"
    }
   ],
   "source": [
    "#Performing PCA to reduce the number of features to 5\n",
    "PCA_analysis_2 = PCA(n_components = 5)\n",
    "PCA_analysis_2.fit(level_changes)\n",
    "\n",
    "#From the above analysis we keep the the eigenvector matrix Q_5 based on the 5 most significant var-covariance matrix eigenvalues.\n",
    "Q_5 = PCA_analysis_2.components_.T\n",
    "\n",
    "#The transformation of our data is the projection of the dataset into the 5th dimentional space using the above eigenvector matrix\n",
    "reduced_dataset = level_changes.dot(Q_5)\n",
    "\n",
    "#The transformed dataset will look like this\n",
    "pd.DataFrame(reduced_dataset).head()"
   ]
  },
  {
   "cell_type": "code",
   "execution_count": 20,
   "metadata": {},
   "outputs": [],
   "source": [
    "#We calculate the first differences of the response variable (to match our data)\n",
    "y_ = np.array(np.diff(y))"
   ]
  },
  {
   "cell_type": "code",
   "execution_count": 21,
   "metadata": {},
   "outputs": [
    {
     "data": {
      "image/png": "[encoded data removed]",
      "text/plain": [
       "<Figure size 432x288 with 6 Axes>"
      ]
     },
     "metadata": {
      "needs_background": "light"
     },
     "output_type": "display_data"
    }
   ],
   "source": [
    "#Since we use the first differences, our data are close to normalized. Therefore we can perform the linear regression without further transformations\n",
    "reduced_dataset.hist()\n",
    "plt.show()"
   ]
  },
  {
   "cell_type": "code",
   "execution_count": 22,
   "metadata": {},
   "outputs": [],
   "source": [
    "#We split our data to training and testing data\n",
    "number_of_rows = level_changes.shape[0]\n",
    "number_of_train_rows = int(number_of_rows*2/3)\n",
    "\n",
    "x_train = reduced_dataset.iloc[:number_of_train_rows,:]\n",
    "x_test = reduced_dataset.iloc[number_of_train_rows:,:]\n",
    "\n",
    "yi_train = y_[:number_of_train_rows].reshape(-1,1)\n",
    "yi_test = y_[number_of_train_rows:].reshape(-1,1)"
   ]
  },
  {
   "cell_type": "code",
   "execution_count": 23,
   "metadata": {},
   "outputs": [
    {
     "data": {
      "text/plain": [
       "LinearRegression()"
      ]
     },
     "execution_count": 23,
     "metadata": {},
     "output_type": "execute_result"
    }
   ],
   "source": [
    "#We perform linear regression on y_\n",
    "linear_reg = LinearRegression()\n",
    "linear_reg.fit(x_train, yi_train)"
   ]
  },
  {
   "cell_type": "code",
   "execution_count": 24,
   "metadata": {},
   "outputs": [
    {
     "name": "stdout",
     "output_type": "stream",
     "text": [
      "The coefficients are: [[-0.05727175  0.01640233 -0.03453771  0.01731836  0.02699952]]\n"
     ]
    }
   ],
   "source": [
    "'''\n",
    "We notice that not all the weights/coefficients of explanatory variables, \n",
    "have the same significance when explaining the targeted variable y_ .  w1 and w3 are way more significant\n",
    "'''\n",
    "\n",
    "print(f'The coefficients are: {linear_reg.coef_}')"
   ]
  },
  {
   "cell_type": "code",
   "execution_count": 25,
   "metadata": {},
   "outputs": [
    {
     "data": {
      "text/plain": [
       "array([-0.50880822])"
      ]
     },
     "execution_count": 25,
     "metadata": {},
     "output_type": "execute_result"
    }
   ],
   "source": [
    "#We achieved a small intercept as our data was almost normalized.\n",
    "linear_reg.intercept_"
   ]
  },
  {
   "cell_type": "code",
   "execution_count": 26,
   "metadata": {},
   "outputs": [
    {
     "data": {
      "text/plain": [
       "0.6472146104784434"
      ]
     },
     "execution_count": 26,
     "metadata": {},
     "output_type": "execute_result"
    }
   ],
   "source": [
    "#The R^2 score implies that 64.7% of our data are explained from the above linear regression model\n",
    "linear_reg.score(x_test, yi_test)"
   ]
  },
  {
   "cell_type": "markdown",
   "metadata": {},
   "source": [
    "### 10 Lasso Regression"
   ]
  },
  {
   "cell_type": "code",
   "execution_count": 27,
   "metadata": {},
   "outputs": [],
   "source": [
    "#We split our data to training and testing data\n",
    "train_data = level_changes.iloc[:number_of_train_rows,:]\n",
    "test_data = level_changes.iloc[number_of_train_rows:,:]\n",
    "\n",
    "#We normalize the response variable as all other data will be normalized during Lasso Regression\n",
    "y_normalized = Normalizer().fit_transform([y_]).T\n",
    "y_train = y_normalized[:number_of_train_rows]\n",
    "y_test = y_normalized[number_of_train_rows:]"
   ]
  },
  {
   "cell_type": "markdown",
   "metadata": {},
   "source": [
    "### 10.1 For the lasso, use at least 1000 different values of the penalty parameter."
   ]
  },
  {
   "cell_type": "code",
   "execution_count": 28,
   "metadata": {},
   "outputs": [],
   "source": [
    "#We perform a Lasso regression with normalizing the dataset and testing 1000 values for `alpha`.\n",
    "#We used alpha values close to zero, as after multiple attempts, when alpha increases, the weights get to zero very fast.\n",
    "ls = Lasso(normalize=True, max_iter = 10000)\n",
    "model = GridSearchCV(ls, param_grid = {'alpha': np.linspace(1e-12,1e-01,1000)}, n_jobs=2, scoring = 'neg_mean_absolute_error', return_train_score=True, refit=True)"
   ]
  },
  {
   "cell_type": "code",
   "execution_count": 29,
   "metadata": {},
   "outputs": [
    {
     "data": {
      "text/plain": [
       "GridSearchCV(estimator=Lasso(max_iter=10000, normalize=True), n_jobs=2,\n",
       "             param_grid={'alpha': array([1.00000000e-12, 1.00100101e-04, 2.00200201e-04, 3.00300301e-04,\n",
       "       4.00400401e-04, 5.00500501e-04, 6.00600602e-04, 7.00700702e-04,\n",
       "       8.00800802e-04, 9.00900902e-04, 1.00100100e-03, 1.10110110e-03,\n",
       "       1.20120120e-03, 1.30130130e-03, 1.40140140e-03, 1.50150150e-03,\n",
       "       1.60160160e-03...\n",
       "       9.80980981e-02, 9.81981982e-02, 9.82982983e-02, 9.83983984e-02,\n",
       "       9.84984985e-02, 9.85985986e-02, 9.86986987e-02, 9.87987988e-02,\n",
       "       9.88988989e-02, 9.89989990e-02, 9.90990991e-02, 9.91991992e-02,\n",
       "       9.92992993e-02, 9.93993994e-02, 9.94994995e-02, 9.95995996e-02,\n",
       "       9.96996997e-02, 9.97997998e-02, 9.98998999e-02, 1.00000000e-01])},\n",
       "             return_train_score=True, scoring='neg_mean_absolute_error')"
      ]
     },
     "execution_count": 29,
     "metadata": {},
     "output_type": "execute_result"
    }
   ],
   "source": [
    "#Training our model against the normalized response variable\n",
    "model.fit(train_data, y_train)"
   ]
  },
  {
   "cell_type": "code",
   "execution_count": 30,
   "metadata": {},
   "outputs": [
    {
     "data": {
      "text/plain": [
       "{'alpha': 0.0001001001010990991}"
      ]
     },
     "execution_count": 30,
     "metadata": {},
     "output_type": "execute_result"
    }
   ],
   "source": [
    "#We extract the best parameter for the Lasso model\n",
    "model.best_params_"
   ]
  },
  {
   "cell_type": "code",
   "execution_count": 31,
   "metadata": {},
   "outputs": [],
   "source": [
    "#We predict the 'South Africa MSCI' using the trained data\n",
    "predicted_SA_MSCI = model.predict(test_data)"
   ]
  },
  {
   "cell_type": "code",
   "execution_count": 32,
   "metadata": {},
   "outputs": [
    {
     "data": {
      "text/plain": [
       "0.7374626951942436"
      ]
     },
     "execution_count": 32,
     "metadata": {},
     "output_type": "execute_result"
    }
   ],
   "source": [
    "#The r^2 score of the prediction using the best alpha\n",
    "r2_score(y_true=y_test, y_pred=predicted_SA_MSCI)"
   ]
  },
  {
   "cell_type": "markdown",
   "metadata": {},
   "source": [
    "In order to calculate the $R^2$-score of 1000 different `alphas`, we will create a different `lasso model` for every `alpha` and we will keep the score produced against the true values of our response variable."
   ]
  },
  {
   "cell_type": "code",
   "execution_count": 33,
   "metadata": {},
   "outputs": [],
   "source": [
    "#The outcome will be a dictionary with alphas as keys and the prediction arrays as values\n",
    "all_predictions = {}\n",
    "alphas = np.linspace(1e-12,1e-01,1000)\n",
    "\n",
    "for alpha in alphas:\n",
    "    lasso = Lasso(normalize=True, max_iter = 10000, alpha = alpha)\n",
    "    lasso.fit(train_data, y_train)\n",
    "    prediction = lasso.predict(test_data)\n",
    "    all_predictions[alpha] = prediction"
   ]
  },
  {
   "cell_type": "code",
   "execution_count": 34,
   "metadata": {},
   "outputs": [],
   "source": [
    "#We will create a loop to score every prediction against the response variable. The scores will be saved in a dictionary with alphas as keys and scores as values.\n",
    "#We will also save in a dictionary all square errors for every alpha. As above, all keys will represent alphas and all values squared errors.\n",
    "all_scores = {}\n",
    "all_squared_errors = {}\n",
    "\n",
    "for alpha in all_predictions.keys():\n",
    "    y_pred = all_predictions[alpha]\n",
    "    score = r2_score(y_true=y_test, y_pred = y_pred)\n",
    "    y_pred_reshaped = y_pred.reshape(-1,1)\n",
    "    errors = y_test - y_pred_reshaped\n",
    "    squared_error = errors.T.dot(errors)/1000\n",
    "    all_squared_errors[alpha] = squared_error[0][0]\n",
    "    all_scores[alpha]=score"
   ]
  },
  {
   "cell_type": "markdown",
   "metadata": {},
   "source": [
    "### 10.2 Graph the overall model mismatch for each of the 1000 values of the penalty parameter"
   ]
  },
  {
   "cell_type": "code",
   "execution_count": 35,
   "metadata": {},
   "outputs": [
    {
     "data": {
      "image/png": "[encoded data removed]",
      "text/plain": [
       "<Figure size 432x288 with 1 Axes>"
      ]
     },
     "metadata": {
      "needs_background": "light"
     },
     "output_type": "display_data"
    }
   ],
   "source": [
    "#Plotting the squared errors\n",
    "\n",
    "plt.plot(all_squared_errors.keys(), all_squared_errors.values())\n",
    "plt.xlim(0,0.01)\n",
    "plt.title('Squared Errors for 1000 alphas')\n",
    "plt.xlabel('Lasso Regression Hyperparameter: alpha')\n",
    "plt.ylabel('Errors')\n",
    "plt.show()"
   ]
  },
  {
   "cell_type": "code",
   "execution_count": 36,
   "metadata": {},
   "outputs": [
    {
     "data": {
      "image/png": "[encoded data removed]",
      "text/plain": [
       "<Figure size 432x288 with 1 Axes>"
      ]
     },
     "metadata": {
      "needs_background": "light"
     },
     "output_type": "display_data"
    }
   ],
   "source": [
    "#Plotting the R^2 scores\n",
    "\n",
    "plt.plot(all_scores.keys(), all_scores.values())\n",
    "plt.xlim(0,0.01)\n",
    "plt.title('$R^2$ scores for 1000 alphas')\n",
    "plt.xlabel('Lasso Regression Hyperparameter: alpha')\n",
    "plt.ylabel('Percentage of eplained data')\n",
    "plt.show()"
   ]
  },
  {
   "cell_type": "markdown",
   "metadata": {},
   "source": [
    "### 10.3 Find a lasso model that includes no more than 7 predictors"
   ]
  },
  {
   "cell_type": "code",
   "execution_count": 37,
   "metadata": {},
   "outputs": [],
   "source": [
    "#We will find various models that keep 7 out of 34 regressors\n",
    "\n",
    "alphas2 = np.linspace(0.000001,0.001,1000)\n",
    "non_zero_weights_list = []\n",
    "\n",
    "for alpha in alphas2:\n",
    "    lasso_model= Lasso(normalize=True, alpha=alpha, max_iter = 5000)\n",
    "    lasso_model.fit(train_data, y_train)\n",
    "    boolean = np.array(lasso_model.coef_, dtype=bool)\n",
    "    non_zero_weights = np.sum(boolean)\n",
    "    if non_zero_weights <= 7:\n",
    "        non_zero_weights_list.append(alpha)"
   ]
  },
  {
   "cell_type": "code",
   "execution_count": 38,
   "metadata": {},
   "outputs": [
    {
     "name": "stdout",
     "output_type": "stream",
     "text": [
      "For alpha = 0.0005920000000000001 we have the best R^2 score: 0.6898604408536411 while keeping only 7 regressors\n"
     ]
    }
   ],
   "source": [
    "#From the above alphas, we will keep the alpha with the highest R^2 score\n",
    "\n",
    "scores_n_alphas = {}\n",
    "\n",
    "for alpha in non_zero_weights_list:\n",
    "    lasso_model= Lasso(normalize=True, alpha=alpha, max_iter = 5000)\n",
    "    lasso_model.fit(train_data, y_train)\n",
    "    y_pred = lasso_model.predict(test_data)\n",
    "    score = r2_score(y_true=y_test, y_pred = y_pred)\n",
    "    scores_n_alphas[alpha] = score\n",
    "\n",
    "\n",
    "best_score = max(scores_n_alphas.items(), key = lambda x: x[1])\n",
    "print(f'For alpha = {best_score[0]} we have the best R^2 score: {best_score[1]} while keeping only 7 regressors')"
   ]
  },
  {
   "cell_type": "code",
   "execution_count": 39,
   "metadata": {},
   "outputs": [
    {
     "data": {
      "text/plain": [
       "array([ 0.00000000e+00,  0.00000000e+00,  0.00000000e+00,  0.00000000e+00,\n",
       "        0.00000000e+00,  0.00000000e+00,  0.00000000e+00,  0.00000000e+00,\n",
       "        0.00000000e+00,  6.95445951e-06,  4.45636307e-04,  4.18158475e-03,\n",
       "       -0.00000000e+00,  0.00000000e+00,  0.00000000e+00,  0.00000000e+00,\n",
       "        0.00000000e+00,  1.03330646e-05,  1.50049666e-05,  0.00000000e+00,\n",
       "        0.00000000e+00,  0.00000000e+00,  0.00000000e+00,  0.00000000e+00,\n",
       "        0.00000000e+00,  3.70726004e-05,  0.00000000e+00, -0.00000000e+00,\n",
       "        0.00000000e+00,  0.00000000e+00,  0.00000000e+00,  0.00000000e+00,\n",
       "        1.45441488e-05,  0.00000000e+00])"
      ]
     },
     "execution_count": 39,
     "metadata": {},
     "output_type": "execute_result"
    }
   ],
   "source": [
    "#Optimum model with 7 regressors\n",
    "optimum_model_7 = Lasso(normalize = True, max_iter=5000, alpha = best_score[0])\n",
    "optimum_model_7.fit(train_data, y_train)\n",
    "\n",
    "optimum_model_7.coef_"
   ]
  },
  {
   "cell_type": "code",
   "execution_count": 40,
   "metadata": {},
   "outputs": [
    {
     "data": {
      "text/plain": [
       "array([ 0, 31, 30, 29, 28, 27, 26, 24, 23, 22, 21, 20, 19, 15, 16, 13,  1,\n",
       "        2,  3,  4,  5,  6, 14,  7, 12,  8, 33,  9, 17, 32, 18, 25, 10, 11])"
      ]
     },
     "execution_count": 40,
     "metadata": {},
     "output_type": "execute_result"
    }
   ],
   "source": [
    "#We find the index of the non-zero columns of our data from smallest to largest\n",
    "index = np.argsort(optimum_model_7.coef_).astype(int)\n",
    "index"
   ]
  },
  {
   "cell_type": "code",
   "execution_count": 41,
   "metadata": {},
   "outputs": [
    {
     "data": {
      "text/plain": [
       "Index(['MSCI DENMARK', 'MSCI HONG KONG', 'MSCI UK', 'MSCI INDIA',\n",
       "       'MSCI NORWAY', 'MSCI EM ASIA', 'MSCI EM EU-MIDE-AFRICA'],\n",
       "      dtype='object')"
      ]
     },
     "execution_count": 41,
     "metadata": {},
     "output_type": "execute_result"
    }
   ],
   "source": [
    "#We used the above index to select the columns that regress our response variable.\n",
    "significan_index = index[-7:]\n",
    "significant_regressors = level_changes.columns[significan_index]\n",
    "significant_regressors"
   ]
  },
  {
   "cell_type": "code",
   "execution_count": 42,
   "metadata": {},
   "outputs": [
    {
     "data": {
      "text/html": [
       "<div>\n",
       "<style scoped>\n",
       "    .dataframe tbody tr th:only-of-type {\n",
       "        vertical-align: middle;\n",
       "    }\n",
       "\n",
       "    .dataframe tbody tr th {\n",
       "        vertical-align: top;\n",
       "    }\n",
       "\n",
       "    .dataframe thead th {\n",
       "        text-align: right;\n",
       "    }\n",
       "</style>\n",
       "<table border=\"1\" class=\"dataframe\">\n",
       "  <thead>\n",
       "    <tr style=\"text-align: right;\">\n",
       "      <th></th>\n",
       "      <th>MSCI DENMARK</th>\n",
       "      <th>MSCI HONG KONG</th>\n",
       "      <th>MSCI UK</th>\n",
       "      <th>MSCI INDIA</th>\n",
       "      <th>MSCI NORWAY</th>\n",
       "      <th>MSCI EM ASIA</th>\n",
       "      <th>MSCI EM EU-MIDE-AFRICA</th>\n",
       "    </tr>\n",
       "    <tr>\n",
       "      <th>Date</th>\n",
       "      <th></th>\n",
       "      <th></th>\n",
       "      <th></th>\n",
       "      <th></th>\n",
       "      <th></th>\n",
       "      <th></th>\n",
       "      <th></th>\n",
       "    </tr>\n",
       "  </thead>\n",
       "  <tbody>\n",
       "    <tr>\n",
       "      <th>2016-01-08</th>\n",
       "      <td>-383.71</td>\n",
       "      <td>-641.88</td>\n",
       "      <td>-96.40</td>\n",
       "      <td>-41.29</td>\n",
       "      <td>-163.79</td>\n",
       "      <td>-26.01</td>\n",
       "      <td>-15.282</td>\n",
       "    </tr>\n",
       "    <tr>\n",
       "      <th>2016-01-15</th>\n",
       "      <td>-427.27</td>\n",
       "      <td>-374.50</td>\n",
       "      <td>-29.57</td>\n",
       "      <td>-18.63</td>\n",
       "      <td>-113.78</td>\n",
       "      <td>-14.47</td>\n",
       "      <td>-12.986</td>\n",
       "    </tr>\n",
       "    <tr>\n",
       "      <th>2016-01-22</th>\n",
       "      <td>279.96</td>\n",
       "      <td>-408.90</td>\n",
       "      <td>27.18</td>\n",
       "      <td>-8.05</td>\n",
       "      <td>77.95</td>\n",
       "      <td>-0.08</td>\n",
       "      <td>3.070</td>\n",
       "    </tr>\n",
       "    <tr>\n",
       "      <th>2016-01-29</th>\n",
       "      <td>175.48</td>\n",
       "      <td>347.95</td>\n",
       "      <td>54.79</td>\n",
       "      <td>22.45</td>\n",
       "      <td>41.33</td>\n",
       "      <td>10.97</td>\n",
       "      <td>16.275</td>\n",
       "    </tr>\n",
       "    <tr>\n",
       "      <th>2016-02-05</th>\n",
       "      <td>-620.96</td>\n",
       "      <td>-273.81</td>\n",
       "      <td>-67.52</td>\n",
       "      <td>-8.31</td>\n",
       "      <td>9.64</td>\n",
       "      <td>-2.12</td>\n",
       "      <td>-0.225</td>\n",
       "    </tr>\n",
       "  </tbody>\n",
       "</table>\n",
       "</div>"
      ],
      "text/plain": [
       "            MSCI DENMARK  MSCI HONG KONG  MSCI UK  MSCI INDIA  MSCI NORWAY  \\\n",
       "Date                                                                         \n",
       "2016-01-08       -383.71         -641.88   -96.40      -41.29      -163.79   \n",
       "2016-01-15       -427.27         -374.50   -29.57      -18.63      -113.78   \n",
       "2016-01-22        279.96         -408.90    27.18       -8.05        77.95   \n",
       "2016-01-29        175.48          347.95    54.79       22.45        41.33   \n",
       "2016-02-05       -620.96         -273.81   -67.52       -8.31         9.64   \n",
       "\n",
       "            MSCI EM ASIA  MSCI EM EU-MIDE-AFRICA  \n",
       "Date                                              \n",
       "2016-01-08        -26.01                 -15.282  \n",
       "2016-01-15        -14.47                 -12.986  \n",
       "2016-01-22         -0.08                   3.070  \n",
       "2016-01-29         10.97                  16.275  \n",
       "2016-02-05         -2.12                  -0.225  "
      ]
     },
     "execution_count": 42,
     "metadata": {},
     "output_type": "execute_result"
    }
   ],
   "source": [
    "#We present the dataframe with the most significant regressors of our lasso model. The columns are presented in order of significance (low to high)\n",
    "significant_regressors_data = level_changes[significant_regressors]\n",
    "significant_regressors_data.head()"
   ]
  },
  {
   "cell_type": "markdown",
   "metadata": {},
   "source": [
    "### Work Cited\n",
    "[1] Singal, V. CFA Curriculum Level II, Portfolio Management Reading 43. Exchange-Traded Funds: Mechanics and Applications, p346-p349, 2019\n",
    "\n",
    "[2] MSCI South Africa Index (USD), MSCI, online: msci.com/documents/10199/d2021dc7-efe2-4389-981a-f2e2eb5c25f6\n",
    "    \n",
    "[3] Brownlee, J. Spearman's Rank-Order Correlation, Statistics Leard, online: statistics.laerd.com/statistical-guides/spearmans-rank-order-correlation-statistical-guide.php\n",
    "        \n",
    "[4] Minitab, A comparison of the Pearson and Spearman correlation methods, online: support.minitab.com/en-us/minitab-express/1/help-and-how-to/modeling-statistics/regression/supporting-topics/basics/a-comparison-of-the-pearson-and-spearman-correlation-methods/\n",
    "    \n",
    "[5] Scipy, scipy.stats.spearmanr online: docs.scipy.org/doc/scipy/reference/generated/scipy.stats.spearmanr.html\n",
    "        \n",
    "[6] How to Calculate Nonparametric Rank Correlation in Python, Machine Learning Mastery, online: machinelearningmastery.com/how-to-calculate-nonparametric-rank-correlation-in-python, July 2018\n",
    "\n",
    "[7] Magiya, J. Kendall Rank Correlation — Python, Medium, online: medium.com/analytics-vidhya/kendall-rank-correlation-python-19524cb0e9a0"
   ]
  }
 ],
 "metadata": {
  "kernelspec": {
   "display_name": "Python 3",
   "language": "python",
   "name": "python3"
  },
  "language_info": {
   "codemirror_mode": {
    "name": "ipython",
    "version": 3
   },
   "file_extension": ".py",
   "mimetype": "text/x-python",
   "name": "python",
   "nbconvert_exporter": "python",
   "pygments_lexer": "ipython3",
   "version": "3.7.9"
  }
 },
 "nbformat": 4,
 "nbformat_minor": 4
}
