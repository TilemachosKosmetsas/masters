{
 "cells": [
  {
   "cell_type": "markdown",
   "metadata": {},
   "source": [
    "## QUESTION 1 , fetching the data. ##\n",
    "\n",
    "I will use pandas_datareader module to download the data straight from yahoo finance. The following command will install this module,If you haven't already installed it, please remove # to do so."
   ]
  },
  {
   "cell_type": "code",
   "execution_count": 1,
   "metadata": {},
   "outputs": [],
   "source": [
    "#pip install pandas_datareader"
   ]
  },
  {
   "cell_type": "code",
   "execution_count": 2,
   "metadata": {},
   "outputs": [],
   "source": [
    "import numpy as np\n",
    "import pandas as pd\n",
    "import pandas_datareader.data as dr\n"
   ]
  },
  {
   "cell_type": "markdown",
   "metadata": {},
   "source": [
    "### Downloading S&P 500 data (yahoo index ticker is ^GSPC). ###"
   ]
  },
  {
   "cell_type": "code",
   "execution_count": 3,
   "metadata": {},
   "outputs": [
    {
     "name": "stdout",
     "output_type": "stream",
     "text": [
      "My SNP500 data contains Nan values: False\n",
      "The SNP500 data I have collected start from: ['2019-02-28T00:00:00.000000000'] and end at: ['2021-03-01T00:00:00.000000000']\n"
     ]
    }
   ],
   "source": [
    "mySNP500dataset=dr.DataReader(\"^GSPC\", \"yahoo\",api_key=None)['Adj Close']\n",
    "SNP500_2_years =mySNP500dataset.tail(505)\n",
    "\n",
    "#Checking if Nan exists \n",
    "print ('My SNP500 data contains Nan values: ' +str (np.isnan(SNP500_2_years).any()))\n",
    "\n",
    "#Start and End dates.\n",
    "print('The SNP500 data I have collected start from: ' + str(SNP500_2_years.head(1).index.values)+' and end at: ' + str(SNP500_2_years.tail(1).index.values) )"
   ]
  },
  {
   "cell_type": "markdown",
   "metadata": {},
   "source": [
    "### Downloading SPY data. ###"
   ]
  },
  {
   "cell_type": "code",
   "execution_count": 4,
   "metadata": {},
   "outputs": [
    {
     "name": "stdout",
     "output_type": "stream",
     "text": [
      "My SPY data contains Nan values: False\n",
      "The SPY data I have collected start from: ['2019-02-28T00:00:00.000000000'] and end at: ['2021-03-01T00:00:00.000000000']\n"
     ]
    }
   ],
   "source": [
    "#help(dr.DataReader) if needed\n",
    "#I used the daily close values OF SPY index (Standard and Poor's S&P 500 ETF Trust)\n",
    "\n",
    "mySPYdataset=dr.DataReader(\"SPY\", \"yahoo\",api_key=None)['Adj Close']\n",
    "SPY_2_years =mySPYdataset.tail(505)\n",
    "\n",
    "#Checking if Nan exists \n",
    "print ('My SPY data contains Nan values: ' +str (np.isnan(SPY_2_years).any()))\n",
    "\n",
    "#Start and End dates.\n",
    "print('The SPY data I have collected start from: ' + str(SPY_2_years.head(1).index.values)+' and end at: ' + str(SPY_2_years.tail(1).index.values) )"
   ]
  },
  {
   "cell_type": "markdown",
   "metadata": {},
   "source": [
    "### Downloading two other ETF's that track S&P500 index. These will be IVV (iShares Core S&P 500 ETF) and SPLG (a SPY portfolio). ###"
   ]
  },
  {
   "cell_type": "code",
   "execution_count": 5,
   "metadata": {},
   "outputs": [
    {
     "name": "stdout",
     "output_type": "stream",
     "text": [
      "My IVV data contains Nan values: False\n",
      "The IVV data I have collected start from: ['2019-02-28T00:00:00.000000000'] and end at: ['2021-03-01T00:00:00.000000000']\n"
     ]
    }
   ],
   "source": [
    "myIVVdataset=dr.DataReader(\"IVV\",\"yahoo\",api_key=None)['Adj Close']\n",
    "IVV_2_years=myIVVdataset.tail(505)\n",
    "\n",
    "#Checking if Nan exists \n",
    "print ('My IVV data contains Nan values: ' +str (np.isnan(IVV_2_years).any()))\n",
    "\n",
    "#Start and End dates.\n",
    "print('The IVV data I have collected start from: ' + str(IVV_2_years.head(1).index.values)+' and end at: ' + str(IVV_2_years.tail(1).index.values) )"
   ]
  },
  {
   "cell_type": "code",
   "execution_count": 6,
   "metadata": {},
   "outputs": [
    {
     "name": "stdout",
     "output_type": "stream",
     "text": [
      "My SPLG data contains Nan values: False\n",
      "The SPLG data I have collected start from: ['2019-02-28T00:00:00.000000000'] and end at: ['2021-03-01T00:00:00.000000000']\n"
     ]
    }
   ],
   "source": [
    "mySPLGdataset=dr.DataReader(\"SPLG\",\"yahoo\",api_key=None)['Adj Close']\n",
    "SPLG_2_years=mySPLGdataset.tail(505)\n",
    "\n",
    "#Checking if Nan exists \n",
    "print ('My SPLG data contains Nan values: ' +str (np.isnan(SPLG_2_years).any()))\n",
    "\n",
    "#Start and End dates.\n",
    "print('The SPLG data I have collected start from: ' + str(SPLG_2_years.head(1).index.values)+' and end at: ' + str(SPLG_2_years.tail(1).index.values) )"
   ]
  },
  {
   "cell_type": "markdown",
   "metadata": {},
   "source": [
    "## Question 2, Computing the returns, active returns, and average active return . ##"
   ]
  },
  {
   "cell_type": "code",
   "execution_count": 7,
   "metadata": {},
   "outputs": [
    {
     "data": {
      "text/html": [
       "<div>\n",
       "<style scoped>\n",
       "    .dataframe tbody tr th:only-of-type {\n",
       "        vertical-align: middle;\n",
       "    }\n",
       "\n",
       "    .dataframe tbody tr th {\n",
       "        vertical-align: top;\n",
       "    }\n",
       "\n",
       "    .dataframe thead th {\n",
       "        text-align: right;\n",
       "    }\n",
       "</style>\n",
       "<table border=\"1\" class=\"dataframe\">\n",
       "  <thead>\n",
       "    <tr style=\"text-align: right;\">\n",
       "      <th></th>\n",
       "      <th>S&amp;P</th>\n",
       "      <th>SPY</th>\n",
       "      <th>IVV</th>\n",
       "      <th>SPLG</th>\n",
       "    </tr>\n",
       "    <tr>\n",
       "      <th>Date</th>\n",
       "      <th></th>\n",
       "      <th></th>\n",
       "      <th></th>\n",
       "      <th></th>\n",
       "    </tr>\n",
       "  </thead>\n",
       "  <tbody>\n",
       "    <tr>\n",
       "      <th>2021-02-23</th>\n",
       "      <td>3881.370117</td>\n",
       "      <td>387.500000</td>\n",
       "      <td>388.940002</td>\n",
       "      <td>45.549999</td>\n",
       "    </tr>\n",
       "    <tr>\n",
       "      <th>2021-02-24</th>\n",
       "      <td>3925.429932</td>\n",
       "      <td>391.769989</td>\n",
       "      <td>393.209991</td>\n",
       "      <td>46.080002</td>\n",
       "    </tr>\n",
       "    <tr>\n",
       "      <th>2021-02-25</th>\n",
       "      <td>3829.340088</td>\n",
       "      <td>382.329987</td>\n",
       "      <td>383.779999</td>\n",
       "      <td>44.980000</td>\n",
       "    </tr>\n",
       "    <tr>\n",
       "      <th>2021-02-26</th>\n",
       "      <td>3811.149902</td>\n",
       "      <td>380.359985</td>\n",
       "      <td>381.769989</td>\n",
       "      <td>44.740002</td>\n",
       "    </tr>\n",
       "    <tr>\n",
       "      <th>2021-03-01</th>\n",
       "      <td>3901.100098</td>\n",
       "      <td>389.559998</td>\n",
       "      <td>391.029999</td>\n",
       "      <td>45.819000</td>\n",
       "    </tr>\n",
       "  </tbody>\n",
       "</table>\n",
       "</div>"
      ],
      "text/plain": [
       "                    S&P         SPY         IVV       SPLG\n",
       "Date                                                      \n",
       "2021-02-23  3881.370117  387.500000  388.940002  45.549999\n",
       "2021-02-24  3925.429932  391.769989  393.209991  46.080002\n",
       "2021-02-25  3829.340088  382.329987  383.779999  44.980000\n",
       "2021-02-26  3811.149902  380.359985  381.769989  44.740002\n",
       "2021-03-01  3901.100098  389.559998  391.029999  45.819000"
      ]
     },
     "execution_count": 7,
     "metadata": {},
     "output_type": "execute_result"
    }
   ],
   "source": [
    "\n",
    "dataset=pd.concat([SNP500_2_years,SPY_2_years,IVV_2_years,SPLG_2_years],axis=1)\n",
    "dataset.columns=['S&P','SPY','IVV','SPLG']\n",
    "dataset.isna().any()\n",
    "dataset.tail(5)"
   ]
  },
  {
   "cell_type": "code",
   "execution_count": 8,
   "metadata": {},
   "outputs": [
    {
     "data": {
      "text/html": [
       "<div>\n",
       "<style scoped>\n",
       "    .dataframe tbody tr th:only-of-type {\n",
       "        vertical-align: middle;\n",
       "    }\n",
       "\n",
       "    .dataframe tbody tr th {\n",
       "        vertical-align: top;\n",
       "    }\n",
       "\n",
       "    .dataframe thead th {\n",
       "        text-align: right;\n",
       "    }\n",
       "</style>\n",
       "<table border=\"1\" class=\"dataframe\">\n",
       "  <thead>\n",
       "    <tr style=\"text-align: right;\">\n",
       "      <th></th>\n",
       "      <th>S&amp;P</th>\n",
       "      <th>SPY</th>\n",
       "      <th>IVV</th>\n",
       "      <th>SPLG</th>\n",
       "    </tr>\n",
       "    <tr>\n",
       "      <th>Date</th>\n",
       "      <th></th>\n",
       "      <th></th>\n",
       "      <th></th>\n",
       "      <th></th>\n",
       "    </tr>\n",
       "  </thead>\n",
       "  <tbody>\n",
       "    <tr>\n",
       "      <th>2021-02-23</th>\n",
       "      <td>0.001256</td>\n",
       "      <td>0.001214</td>\n",
       "      <td>0.001055</td>\n",
       "      <td>0.000439</td>\n",
       "    </tr>\n",
       "    <tr>\n",
       "      <th>2021-02-24</th>\n",
       "      <td>0.011288</td>\n",
       "      <td>0.010959</td>\n",
       "      <td>0.010919</td>\n",
       "      <td>0.011568</td>\n",
       "    </tr>\n",
       "    <tr>\n",
       "      <th>2021-02-25</th>\n",
       "      <td>-0.024783</td>\n",
       "      <td>-0.024391</td>\n",
       "      <td>-0.024274</td>\n",
       "      <td>-0.024161</td>\n",
       "    </tr>\n",
       "    <tr>\n",
       "      <th>2021-02-26</th>\n",
       "      <td>-0.004762</td>\n",
       "      <td>-0.005166</td>\n",
       "      <td>-0.005251</td>\n",
       "      <td>-0.005350</td>\n",
       "    </tr>\n",
       "    <tr>\n",
       "      <th>2021-03-01</th>\n",
       "      <td>0.023328</td>\n",
       "      <td>0.023900</td>\n",
       "      <td>0.023966</td>\n",
       "      <td>0.023831</td>\n",
       "    </tr>\n",
       "  </tbody>\n",
       "</table>\n",
       "</div>"
      ],
      "text/plain": [
       "                 S&P       SPY       IVV      SPLG\n",
       "Date                                              \n",
       "2021-02-23  0.001256  0.001214  0.001055  0.000439\n",
       "2021-02-24  0.011288  0.010959  0.010919  0.011568\n",
       "2021-02-25 -0.024783 -0.024391 -0.024274 -0.024161\n",
       "2021-02-26 -0.004762 -0.005166 -0.005251 -0.005350\n",
       "2021-03-01  0.023328  0.023900  0.023966  0.023831"
      ]
     },
     "execution_count": 8,
     "metadata": {},
     "output_type": "execute_result"
    }
   ],
   "source": [
    "#Calculating the returns.\n",
    "dataset_returns = np.log(dataset).diff()[1:]\n",
    "dataset_returns.tail(5)"
   ]
  },
  {
   "cell_type": "code",
   "execution_count": 9,
   "metadata": {},
   "outputs": [
    {
     "data": {
      "text/html": [
       "<div>\n",
       "<style scoped>\n",
       "    .dataframe tbody tr th:only-of-type {\n",
       "        vertical-align: middle;\n",
       "    }\n",
       "\n",
       "    .dataframe tbody tr th {\n",
       "        vertical-align: top;\n",
       "    }\n",
       "\n",
       "    .dataframe thead th {\n",
       "        text-align: right;\n",
       "    }\n",
       "</style>\n",
       "<table border=\"1\" class=\"dataframe\">\n",
       "  <thead>\n",
       "    <tr style=\"text-align: right;\">\n",
       "      <th></th>\n",
       "      <th>SPY</th>\n",
       "      <th>IVV</th>\n",
       "      <th>SPLG</th>\n",
       "    </tr>\n",
       "    <tr>\n",
       "      <th>Date</th>\n",
       "      <th></th>\n",
       "      <th></th>\n",
       "      <th></th>\n",
       "    </tr>\n",
       "  </thead>\n",
       "  <tbody>\n",
       "    <tr>\n",
       "      <th>2021-02-23</th>\n",
       "      <td>-0.000042</td>\n",
       "      <td>-0.000201</td>\n",
       "      <td>-0.000816</td>\n",
       "    </tr>\n",
       "    <tr>\n",
       "      <th>2021-02-24</th>\n",
       "      <td>-0.000329</td>\n",
       "      <td>-0.000369</td>\n",
       "      <td>0.000281</td>\n",
       "    </tr>\n",
       "    <tr>\n",
       "      <th>2021-02-25</th>\n",
       "      <td>0.000393</td>\n",
       "      <td>0.000509</td>\n",
       "      <td>0.000622</td>\n",
       "    </tr>\n",
       "    <tr>\n",
       "      <th>2021-02-26</th>\n",
       "      <td>-0.000404</td>\n",
       "      <td>-0.000490</td>\n",
       "      <td>-0.000588</td>\n",
       "    </tr>\n",
       "    <tr>\n",
       "      <th>2021-03-01</th>\n",
       "      <td>0.000572</td>\n",
       "      <td>0.000638</td>\n",
       "      <td>0.000503</td>\n",
       "    </tr>\n",
       "  </tbody>\n",
       "</table>\n",
       "</div>"
      ],
      "text/plain": [
       "                 SPY       IVV      SPLG\n",
       "Date                                    \n",
       "2021-02-23 -0.000042 -0.000201 -0.000816\n",
       "2021-02-24 -0.000329 -0.000369  0.000281\n",
       "2021-02-25  0.000393  0.000509  0.000622\n",
       "2021-02-26 -0.000404 -0.000490 -0.000588\n",
       "2021-03-01  0.000572  0.000638  0.000503"
      ]
     },
     "execution_count": 9,
     "metadata": {},
     "output_type": "execute_result"
    }
   ],
   "source": [
    "#Calculating the active returns of SPY, IVV , and SPLG with S&P 500 as their benchmark.\n",
    "dataset_act_returns=dataset_returns.subtract(dataset_returns['S&P'], axis=0)[['SPY','IVV','SPLG']]                                                                          \n",
    "dataset_act_returns.tail(5)\n"
   ]
  },
  {
   "cell_type": "code",
   "execution_count": 10,
   "metadata": {},
   "outputs": [
    {
     "data": {
      "text/plain": [
       "SPY     0.000069\n",
       "IVV     0.000072\n",
       "SPLG    0.000070\n",
       "dtype: float64"
      ]
     },
     "execution_count": 10,
     "metadata": {},
     "output_type": "execute_result"
    }
   ],
   "source": [
    "#Calculating the average active return for each ticker.\n",
    "dataset_act_returns.mean()"
   ]
  },
  {
   "cell_type": "markdown",
   "metadata": {},
   "source": [
    "## Question 3, Computing the tracking error and mean adjusted tracking error. ##"
   ]
  },
  {
   "cell_type": "code",
   "execution_count": 11,
   "metadata": {},
   "outputs": [
    {
     "data": {
      "text/plain": [
       "SPY     0.000955\n",
       "IVV     0.000691\n",
       "SPLG    0.000724\n",
       "dtype: float64"
      ]
     },
     "execution_count": 11,
     "metadata": {},
     "output_type": "execute_result"
    }
   ],
   "source": [
    "#The tracking error is the standard deviation of the active returns (denominator for pandas is set to T-1 , which is used for samples).\n",
    "dataset_act_returns.std()"
   ]
  },
  {
   "cell_type": "code",
   "execution_count": 12,
   "metadata": {},
   "outputs": [
    {
     "data": {
      "text/plain": [
       "SPY     0.000956\n",
       "IVV     0.000694\n",
       "SPLG    0.000726\n",
       "dtype: float64"
      ]
     },
     "execution_count": 12,
     "metadata": {},
     "output_type": "execute_result"
    }
   ],
   "source": [
    "#Calculating the mean adjusted tracking error.\n",
    "(dataset_act_returns.pow(2).mean())**(1/2)"
   ]
  },
  {
   "cell_type": "markdown",
   "metadata": {},
   "source": [
    "## Question 4, Which of these 3 ETFs tracks the S&P 500 better. ##"
   ]
  },
  {
   "cell_type": "markdown",
   "metadata": {},
   "source": [
    "As of now (March first 2021) , IVV appears to track the S&P 500 better because it has a lower mean adjusted tracking error , and lower tracking error as well. Furthermore, IVV appears to have the highest active return compared to the other two tickers."
   ]
  },
  {
   "cell_type": "markdown",
   "metadata": {},
   "source": [
    "## Question 5, Downloading the selected SPDR tickers. ##"
   ]
  },
  {
   "cell_type": "code",
   "execution_count": 13,
   "metadata": {},
   "outputs": [
    {
     "name": "stdout",
     "output_type": "stream",
     "text": [
      "The initial date is: 2019-02-28T00:00:00.000000000 and the final date is: 2021-03-01T00:00:00.000000000\n"
     ]
    }
   ],
   "source": [
    "#The tickers we were asked to download(read from).\n",
    "tickers = ['XLB', 'XLE', 'XLF', 'XLI', 'XLK', 'XLP', 'XLRE', 'XLU', 'XLV', 'XLY']\n",
    "\n",
    "#read the last 505 tickers\n",
    "mass_ticker_incoming = dr.DataReader(tickers, 'yahoo', api_key=None)['Adj Close'].tail(505) \n",
    "#initial and final date\n",
    "print ('The initial date is: ' + str(mass_ticker_incoming.index.values[0]) + ' and the final date is: ' + str(mass_ticker_incoming.index.values[-1]))"
   ]
  },
  {
   "cell_type": "code",
   "execution_count": 14,
   "metadata": {},
   "outputs": [
    {
     "data": {
      "text/html": [
       "<div>\n",
       "<style scoped>\n",
       "    .dataframe tbody tr th:only-of-type {\n",
       "        vertical-align: middle;\n",
       "    }\n",
       "\n",
       "    .dataframe tbody tr th {\n",
       "        vertical-align: top;\n",
       "    }\n",
       "\n",
       "    .dataframe thead th {\n",
       "        text-align: right;\n",
       "    }\n",
       "</style>\n",
       "<table border=\"1\" class=\"dataframe\">\n",
       "  <thead>\n",
       "    <tr style=\"text-align: right;\">\n",
       "      <th>Symbols</th>\n",
       "      <th>XLB</th>\n",
       "      <th>XLE</th>\n",
       "      <th>XLF</th>\n",
       "      <th>XLI</th>\n",
       "      <th>XLK</th>\n",
       "      <th>XLP</th>\n",
       "      <th>XLRE</th>\n",
       "      <th>XLU</th>\n",
       "      <th>XLV</th>\n",
       "      <th>XLY</th>\n",
       "    </tr>\n",
       "    <tr>\n",
       "      <th>Date</th>\n",
       "      <th></th>\n",
       "      <th></th>\n",
       "      <th></th>\n",
       "      <th></th>\n",
       "      <th></th>\n",
       "      <th></th>\n",
       "      <th></th>\n",
       "      <th></th>\n",
       "      <th></th>\n",
       "      <th></th>\n",
       "    </tr>\n",
       "  </thead>\n",
       "  <tbody>\n",
       "    <tr>\n",
       "      <th>2021-02-23</th>\n",
       "      <td>75.599998</td>\n",
       "      <td>48.570000</td>\n",
       "      <td>32.910000</td>\n",
       "      <td>91.550003</td>\n",
       "      <td>132.679993</td>\n",
       "      <td>65.089996</td>\n",
       "      <td>38.450001</td>\n",
       "      <td>60.709999</td>\n",
       "      <td>113.949997</td>\n",
       "      <td>164.949997</td>\n",
       "    </tr>\n",
       "    <tr>\n",
       "      <th>2021-02-24</th>\n",
       "      <td>76.260002</td>\n",
       "      <td>50.290001</td>\n",
       "      <td>33.549999</td>\n",
       "      <td>93.279999</td>\n",
       "      <td>134.710007</td>\n",
       "      <td>65.050003</td>\n",
       "      <td>38.630001</td>\n",
       "      <td>60.000000</td>\n",
       "      <td>114.739998</td>\n",
       "      <td>166.679993</td>\n",
       "    </tr>\n",
       "    <tr>\n",
       "      <th>2021-02-25</th>\n",
       "      <td>74.500000</td>\n",
       "      <td>49.320000</td>\n",
       "      <td>32.939999</td>\n",
       "      <td>91.559998</td>\n",
       "      <td>130.000000</td>\n",
       "      <td>64.339996</td>\n",
       "      <td>38.000000</td>\n",
       "      <td>59.459999</td>\n",
       "      <td>113.589996</td>\n",
       "      <td>160.479996</td>\n",
       "    </tr>\n",
       "    <tr>\n",
       "      <th>2021-02-26</th>\n",
       "      <td>73.550003</td>\n",
       "      <td>48.150002</td>\n",
       "      <td>32.310001</td>\n",
       "      <td>90.610001</td>\n",
       "      <td>130.690002</td>\n",
       "      <td>63.299999</td>\n",
       "      <td>37.340000</td>\n",
       "      <td>58.360001</td>\n",
       "      <td>112.610001</td>\n",
       "      <td>161.149994</td>\n",
       "    </tr>\n",
       "    <tr>\n",
       "      <th>2021-03-01</th>\n",
       "      <td>75.724998</td>\n",
       "      <td>49.724998</td>\n",
       "      <td>33.145000</td>\n",
       "      <td>93.290001</td>\n",
       "      <td>134.410004</td>\n",
       "      <td>64.315002</td>\n",
       "      <td>37.810001</td>\n",
       "      <td>60.174999</td>\n",
       "      <td>114.449997</td>\n",
       "      <td>165.059998</td>\n",
       "    </tr>\n",
       "  </tbody>\n",
       "</table>\n",
       "</div>"
      ],
      "text/plain": [
       "Symbols           XLB        XLE        XLF        XLI         XLK        XLP  \\\n",
       "Date                                                                            \n",
       "2021-02-23  75.599998  48.570000  32.910000  91.550003  132.679993  65.089996   \n",
       "2021-02-24  76.260002  50.290001  33.549999  93.279999  134.710007  65.050003   \n",
       "2021-02-25  74.500000  49.320000  32.939999  91.559998  130.000000  64.339996   \n",
       "2021-02-26  73.550003  48.150002  32.310001  90.610001  130.690002  63.299999   \n",
       "2021-03-01  75.724998  49.724998  33.145000  93.290001  134.410004  64.315002   \n",
       "\n",
       "Symbols          XLRE        XLU         XLV         XLY  \n",
       "Date                                                      \n",
       "2021-02-23  38.450001  60.709999  113.949997  164.949997  \n",
       "2021-02-24  38.630001  60.000000  114.739998  166.679993  \n",
       "2021-02-25  38.000000  59.459999  113.589996  160.479996  \n",
       "2021-02-26  37.340000  58.360001  112.610001  161.149994  \n",
       "2021-03-01  37.810001  60.174999  114.449997  165.059998  "
      ]
     },
     "execution_count": 14,
     "metadata": {},
     "output_type": "execute_result"
    }
   ],
   "source": [
    "mass_ticker_incoming.tail()"
   ]
  },
  {
   "cell_type": "markdown",
   "metadata": {},
   "source": [
    "## Question 6, Compute the returns. ##"
   ]
  },
  {
   "cell_type": "code",
   "execution_count": 15,
   "metadata": {},
   "outputs": [
    {
     "data": {
      "text/html": [
       "<div>\n",
       "<style scoped>\n",
       "    .dataframe tbody tr th:only-of-type {\n",
       "        vertical-align: middle;\n",
       "    }\n",
       "\n",
       "    .dataframe tbody tr th {\n",
       "        vertical-align: top;\n",
       "    }\n",
       "\n",
       "    .dataframe thead th {\n",
       "        text-align: right;\n",
       "    }\n",
       "</style>\n",
       "<table border=\"1\" class=\"dataframe\">\n",
       "  <thead>\n",
       "    <tr style=\"text-align: right;\">\n",
       "      <th>Symbols</th>\n",
       "      <th>XLB</th>\n",
       "      <th>XLE</th>\n",
       "      <th>XLF</th>\n",
       "      <th>XLI</th>\n",
       "      <th>XLK</th>\n",
       "      <th>XLP</th>\n",
       "      <th>XLRE</th>\n",
       "      <th>XLU</th>\n",
       "      <th>XLV</th>\n",
       "      <th>XLY</th>\n",
       "    </tr>\n",
       "    <tr>\n",
       "      <th>Date</th>\n",
       "      <th></th>\n",
       "      <th></th>\n",
       "      <th></th>\n",
       "      <th></th>\n",
       "      <th></th>\n",
       "      <th></th>\n",
       "      <th></th>\n",
       "      <th></th>\n",
       "      <th></th>\n",
       "      <th></th>\n",
       "    </tr>\n",
       "  </thead>\n",
       "  <tbody>\n",
       "    <tr>\n",
       "      <th>2021-02-23</th>\n",
       "      <td>0.003445</td>\n",
       "      <td>0.016399</td>\n",
       "      <td>0.006096</td>\n",
       "      <td>0.003063</td>\n",
       "      <td>-0.002785</td>\n",
       "      <td>0.001384</td>\n",
       "      <td>0.003648</td>\n",
       "      <td>0.008270</td>\n",
       "      <td>-0.001666</td>\n",
       "      <td>-0.006586</td>\n",
       "    </tr>\n",
       "    <tr>\n",
       "      <th>2021-02-24</th>\n",
       "      <td>0.008692</td>\n",
       "      <td>0.034800</td>\n",
       "      <td>0.019260</td>\n",
       "      <td>0.018720</td>\n",
       "      <td>0.015184</td>\n",
       "      <td>-0.000615</td>\n",
       "      <td>0.004670</td>\n",
       "      <td>-0.011764</td>\n",
       "      <td>0.006909</td>\n",
       "      <td>0.010433</td>\n",
       "    </tr>\n",
       "    <tr>\n",
       "      <th>2021-02-25</th>\n",
       "      <td>-0.023349</td>\n",
       "      <td>-0.019477</td>\n",
       "      <td>-0.018349</td>\n",
       "      <td>-0.018611</td>\n",
       "      <td>-0.035590</td>\n",
       "      <td>-0.010975</td>\n",
       "      <td>-0.016443</td>\n",
       "      <td>-0.009041</td>\n",
       "      <td>-0.010073</td>\n",
       "      <td>-0.037906</td>\n",
       "    </tr>\n",
       "    <tr>\n",
       "      <th>2021-02-26</th>\n",
       "      <td>-0.012834</td>\n",
       "      <td>-0.024009</td>\n",
       "      <td>-0.019311</td>\n",
       "      <td>-0.010430</td>\n",
       "      <td>0.005294</td>\n",
       "      <td>-0.016296</td>\n",
       "      <td>-0.017521</td>\n",
       "      <td>-0.018673</td>\n",
       "      <td>-0.008665</td>\n",
       "      <td>0.004166</td>\n",
       "    </tr>\n",
       "    <tr>\n",
       "      <th>2021-03-01</th>\n",
       "      <td>0.029143</td>\n",
       "      <td>0.032187</td>\n",
       "      <td>0.025515</td>\n",
       "      <td>0.029148</td>\n",
       "      <td>0.028067</td>\n",
       "      <td>0.015908</td>\n",
       "      <td>0.012509</td>\n",
       "      <td>0.030626</td>\n",
       "      <td>0.016207</td>\n",
       "      <td>0.023973</td>\n",
       "    </tr>\n",
       "  </tbody>\n",
       "</table>\n",
       "</div>"
      ],
      "text/plain": [
       "Symbols          XLB       XLE       XLF       XLI       XLK       XLP  \\\n",
       "Date                                                                     \n",
       "2021-02-23  0.003445  0.016399  0.006096  0.003063 -0.002785  0.001384   \n",
       "2021-02-24  0.008692  0.034800  0.019260  0.018720  0.015184 -0.000615   \n",
       "2021-02-25 -0.023349 -0.019477 -0.018349 -0.018611 -0.035590 -0.010975   \n",
       "2021-02-26 -0.012834 -0.024009 -0.019311 -0.010430  0.005294 -0.016296   \n",
       "2021-03-01  0.029143  0.032187  0.025515  0.029148  0.028067  0.015908   \n",
       "\n",
       "Symbols         XLRE       XLU       XLV       XLY  \n",
       "Date                                                \n",
       "2021-02-23  0.003648  0.008270 -0.001666 -0.006586  \n",
       "2021-02-24  0.004670 -0.011764  0.006909  0.010433  \n",
       "2021-02-25 -0.016443 -0.009041 -0.010073 -0.037906  \n",
       "2021-02-26 -0.017521 -0.018673 -0.008665  0.004166  \n",
       "2021-03-01  0.012509  0.030626  0.016207  0.023973  "
      ]
     },
     "execution_count": 15,
     "metadata": {},
     "output_type": "execute_result"
    }
   ],
   "source": [
    "mass_ticker_returns = np.log(mass_ticker_incoming).diff()[1:]\n",
    "mass_ticker_returns.tail(5)"
   ]
  },
  {
   "cell_type": "markdown",
   "metadata": {},
   "source": [
    "## Question 7 ## \n",
    "Write a function that computes active return internally, and uses that to compute the Mean-Adjusted Tracking Error."
   ]
  },
  {
   "cell_type": "markdown",
   "metadata": {},
   "source": [
    "I used a different expression this time, in order to calculate the MATE internally. That is:\n",
    "$$MATE=    \\sqrt{\\frac{T-1}{T} \\cdot TE^2 + \\overline{R}^2} $$"
   ]
  },
  {
   "cell_type": "code",
   "execution_count": 16,
   "metadata": {},
   "outputs": [],
   "source": [
    "#The active return is computed internally (by calculating R squared, where R is the active the active return). \n",
    "#I straightaway computed its mean and and squared it.\n",
    "\n",
    "def MATE(ticker,benchmark):\n",
    "    T=len(ticker.index)\n",
    "    TE=ticker.std()\n",
    "    Rsquared=ticker.subtract(benchmark,axis=0).mean()**2\n",
    "    return (((T-1)/T)*(TE**2) + Rsquared)**(1/2)\n",
    "    "
   ]
  },
  {
   "cell_type": "code",
   "execution_count": 17,
   "metadata": {},
   "outputs": [
    {
     "data": {
      "text/plain": [
       "Symbols\n",
       "XLB     0.018634\n",
       "XLE     0.029104\n",
       "XLF     0.021636\n",
       "XLI     0.019043\n",
       "XLK     0.019694\n",
       "XLP     0.013308\n",
       "XLRE    0.019004\n",
       "XLU     0.018076\n",
       "XLV     0.014793\n",
       "XLY     0.016647\n",
       "dtype: float64"
      ]
     },
     "execution_count": 17,
     "metadata": {},
     "output_type": "execute_result"
    }
   ],
   "source": [
    "MATE(mass_ticker_returns,dataset_returns['S&P'])"
   ]
  },
  {
   "cell_type": "markdown",
   "metadata": {},
   "source": [
    "### Question 8, Determine which single sector fund best tracks the S&P500 ###"
   ]
  },
  {
   "cell_type": "markdown",
   "metadata": {},
   "source": [
    "As of now (March first 2021) , the best index seems to be XLP, as this is the one with the smallest mean adjusted tracking error.\n",
    "Keep in mind that i didn't compute the average active returns here, because they were not asked of us, so I didn't take that into consideration."
   ]
  },
  {
   "cell_type": "code",
   "execution_count": null,
   "metadata": {},
   "outputs": [],
   "source": []
  }
 ],
 "metadata": {
  "kernelspec": {
   "display_name": "Python 3",
   "language": "python",
   "name": "python3"
  },
  "language_info": {
   "codemirror_mode": {
    "name": "ipython",
    "version": 3
   },
   "file_extension": ".py",
   "mimetype": "text/x-python",
   "name": "python",
   "nbconvert_exporter": "python",
   "pygments_lexer": "ipython3",
   "version": "3.8.5"
  }
 },
 "nbformat": 4,
 "nbformat_minor": 4
}
